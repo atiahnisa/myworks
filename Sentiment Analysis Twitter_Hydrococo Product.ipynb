{
 "cells": [
  {
   "cell_type": "markdown",
   "metadata": {},
   "source": [
    "# Import Packages"
   ]
  },
  {
   "cell_type": "code",
   "execution_count": 261,
   "metadata": {},
   "outputs": [],
   "source": [
    "import pandas as pd\n",
    "import numpy as np\n",
    "from datetime import datetime,timedelta\n",
    "import pytz \n",
    "import re\n",
    "import nltk\n",
    "from nltk.corpus import stopwords\n",
    "from nltk.tokenize import word_tokenize\n",
    "import ast\n",
    "import string\n",
    "from wordcloud import WordCloud, STOPWORDS, ImageColorGenerator\n",
    "from PIL import Image\n",
    "from matplotlib.colors import LinearSegmentedColormap\n",
    "from Sastrawi.Stemmer.StemmerFactory import StemmerFactory\n",
    "import itertools\n",
    "import matplotlib.pyplot as plt\n",
    "import seaborn as sns\n",
    "from googletrans import Translator\n"
   ]
  },
  {
   "cell_type": "markdown",
   "metadata": {},
   "source": [
    "# Import Data"
   ]
  },
  {
   "cell_type": "code",
   "execution_count": 262,
   "metadata": {},
   "outputs": [],
   "source": [
    "df = pd.read_csv('data/data_extraction/Isotonic_all.csv')\n",
    "\n",
    "jakarta = pytz.timezone('Asia/Jakarta')\n",
    "df['datetime_created'] = df['created_at'].apply(lambda x: datetime.strptime(x,'%a %b %d %H:%M:%S %z %Y').replace(tzinfo=pytz.UTC).astimezone(jakarta))\n",
    "df['date_created'] = df['datetime_created'].apply(lambda x: x.date())\n",
    "df['time_created'] = df['datetime_created'].apply(lambda x: x.time())\n",
    "df = df.drop(['datetime_created'],axis=1)"
   ]
  },
  {
   "cell_type": "code",
   "execution_count": 263,
   "metadata": {
    "collapsed": true
   },
   "outputs": [
    {
     "data": {
      "text/html": [
       "<div>\n",
       "<style scoped>\n",
       "    .dataframe tbody tr th:only-of-type {\n",
       "        vertical-align: middle;\n",
       "    }\n",
       "\n",
       "    .dataframe tbody tr th {\n",
       "        vertical-align: top;\n",
       "    }\n",
       "\n",
       "    .dataframe thead th {\n",
       "        text-align: right;\n",
       "    }\n",
       "</style>\n",
       "<table border=\"1\" class=\"dataframe\">\n",
       "  <thead>\n",
       "    <tr style=\"text-align: right;\">\n",
       "      <th></th>\n",
       "      <th>Product</th>\n",
       "      <th>id</th>\n",
       "      <th>created_at</th>\n",
       "      <th>source</th>\n",
       "      <th>original_text</th>\n",
       "      <th>clean_text</th>\n",
       "      <th>lang</th>\n",
       "      <th>favorite_count</th>\n",
       "      <th>retweet_count</th>\n",
       "      <th>original_author</th>\n",
       "      <th>possibly_sensitive</th>\n",
       "      <th>hashtags</th>\n",
       "      <th>user_mentions</th>\n",
       "      <th>place</th>\n",
       "      <th>place_coord_boundaries</th>\n",
       "      <th>date_created</th>\n",
       "      <th>time_created</th>\n",
       "    </tr>\n",
       "  </thead>\n",
       "  <tbody>\n",
       "    <tr>\n",
       "      <th>0</th>\n",
       "      <td>Mizone</td>\n",
       "      <td>1.350000e+18</td>\n",
       "      <td>Wed Jan 20 01:19:59 +0000 2021</td>\n",
       "      <td>&lt;a href=\"http://twitter.com/download/android\" rel=\"nofollow\"&gt;Twitter for Android&lt;/a&gt;</td>\n",
       "      <td>@chridst tidak suuzone karena gue maunya mizone, ayo beri satu</td>\n",
       "      <td>tidak suuzone maunya mizone ayo</td>\n",
       "      <td>in</td>\n",
       "      <td>0</td>\n",
       "      <td>0</td>\n",
       "      <td>heouaisha</td>\n",
       "      <td>False</td>\n",
       "      <td>coveriklan, voiceover, pengisisuara, votalent</td>\n",
       "      <td>chridst</td>\n",
       "      <td>forever disneyfams.</td>\n",
       "      <td>[[112.59649, -8.131789], [112.69126, -8.131789], [112.69126, -8.04802], [112.59649, -8.04802]]</td>\n",
       "      <td>2021-01-20</td>\n",
       "      <td>08:19:59</td>\n",
       "    </tr>\n",
       "    <tr>\n",
       "      <th>1</th>\n",
       "      <td>Mizone</td>\n",
       "      <td>1.350000e+18</td>\n",
       "      <td>Tue Jan 19 18:19:53 +0000 2021</td>\n",
       "      <td>&lt;a href=\"http://twitter.com/download/iphone\" rel=\"nofollow\"&gt;Twitter for iPhone&lt;/a&gt;</td>\n",
       "      <td>@bdngfess Nu kieu yeuh kangen berat sabelah teh\\r\\nInget nder iklan mizone</td>\n",
       "      <td>nu kieu yeuh kangen sabelah tehinget nder iklan mizone</td>\n",
       "      <td>in</td>\n",
       "      <td>0</td>\n",
       "      <td>0</td>\n",
       "      <td>Kasoy29</td>\n",
       "      <td>False</td>\n",
       "      <td>RakyatDikelabui, RakyatDikelabui</td>\n",
       "      <td>bdngfess</td>\n",
       "      <td>6°48'21.7\"S 107°37'12.8\"E</td>\n",
       "      <td>[[101.4761877, 2.9745362], [101.6291504, 2.9745362], [101.6291504, 3.1279044], [101.4761877, 3.1...</td>\n",
       "      <td>2021-01-20</td>\n",
       "      <td>01:19:53</td>\n",
       "    </tr>\n",
       "    <tr>\n",
       "      <th>2</th>\n",
       "      <td>Mizone</td>\n",
       "      <td>1.350000e+18</td>\n",
       "      <td>Tue Jan 19 17:13:16 +0000 2021</td>\n",
       "      <td>&lt;a href=\"http://twitter.com/download/android\" rel=\"nofollow\"&gt;Twitter for Android&lt;/a&gt;</td>\n",
       "      <td>@menggelinjanq @andhikahehe @KarlinaFebri19 yaudah, deddy mizone</td>\n",
       "      <td>ya sudah deddy mizone</td>\n",
       "      <td>in</td>\n",
       "      <td>0</td>\n",
       "      <td>0</td>\n",
       "      <td>JosriSeptianto</td>\n",
       "      <td>False</td>\n",
       "      <td>NaN</td>\n",
       "      <td>menggelinjanq, andhikahehe, KarlinaFebri19</td>\n",
       "      <td>haūs : ngoog</td>\n",
       "      <td>[[116.1127404, -8.623615], [116.164731, -8.623615], [116.164731, -8.563715], [116.1127404, -8.56...</td>\n",
       "      <td>2021-01-20</td>\n",
       "      <td>00:13:16</td>\n",
       "    </tr>\n",
       "    <tr>\n",
       "      <th>3</th>\n",
       "      <td>Mizone</td>\n",
       "      <td>1.350000e+18</td>\n",
       "      <td>Tue Jan 19 14:42:05 +0000 2021</td>\n",
       "      <td>&lt;a href=\"http://twitter.com/download/android\" rel=\"nofollow\"&gt;Twitter for Android&lt;/a&gt;</td>\n",
       "      <td>@tjaennie @minjoooz @chaerylei @ljungwu pake z berasa mizone</td>\n",
       "      <td>pakai z berasa mizone</td>\n",
       "      <td>in</td>\n",
       "      <td>0</td>\n",
       "      <td>0</td>\n",
       "      <td>heetjins</td>\n",
       "      <td>False</td>\n",
       "      <td>NaN</td>\n",
       "      <td>tjaennie, minjoooz, chaerylei, ljungwu</td>\n",
       "      <td>lost</td>\n",
       "      <td>[[116.0689, -8.651347], [116.1688219, -8.651347], [116.1688219, -8.60494], [116.0689, -8.60494]]</td>\n",
       "      <td>2021-01-19</td>\n",
       "      <td>21:42:05</td>\n",
       "    </tr>\n",
       "    <tr>\n",
       "      <th>4</th>\n",
       "      <td>Mizone</td>\n",
       "      <td>1.350000e+18</td>\n",
       "      <td>Tue Jan 19 14:25:49 +0000 2021</td>\n",
       "      <td>&lt;a href=\"http://twitter.com/download/android\" rel=\"nofollow\"&gt;Twitter for Android&lt;/a&gt;</td>\n",
       "      <td>@subtanyarl waktu umur 2 tahunan GUE MINUM MINYAK GAS HAHAHAA, terus seisi rumah pada panik. ken...</td>\n",
       "      <td>umur tahunan minum minyak gas hahahaa seisi rumah panik minum minyak tidak tuh minyak botol nya ...</td>\n",
       "      <td>in</td>\n",
       "      <td>0</td>\n",
       "      <td>0</td>\n",
       "      <td>oxylome</td>\n",
       "      <td>False</td>\n",
       "      <td>NaN</td>\n",
       "      <td>subtanyarl</td>\n",
       "      <td>vottom🍊</td>\n",
       "      <td>[[106.721034, -6.217601], [106.770437, -6.217601], [106.770437, -6.154872], [106.721034, -6.1548...</td>\n",
       "      <td>2021-01-19</td>\n",
       "      <td>21:25:49</td>\n",
       "    </tr>\n",
       "    <tr>\n",
       "      <th>5</th>\n",
       "      <td>Mizone</td>\n",
       "      <td>1.350000e+18</td>\n",
       "      <td>Tue Jan 19 14:07:58 +0000 2021</td>\n",
       "      <td>&lt;a href=\"http://twitter.com/download/iphone\" rel=\"nofollow\"&gt;Twitter for iPhone&lt;/a&gt;</td>\n",
       "      <td>Aqua bisa ekspansi pasarnya dan buka pabrik tambahan sana sini yg bikin produksi &amp;amp; aktivitas...</td>\n",
       "      <td>aqua ekspansi pasarnya buka pabrik tambahan bikin produksi amp aktivitas perusahaannya bikin miz...</td>\n",
       "      <td>in</td>\n",
       "      <td>0</td>\n",
       "      <td>0</td>\n",
       "      <td>taequela</td>\n",
       "      <td>False</td>\n",
       "      <td>NaN</td>\n",
       "      <td>msofyan</td>\n",
       "      <td>Zimbabwe</td>\n",
       "      <td>NaN</td>\n",
       "      <td>2021-01-19</td>\n",
       "      <td>21:07:58</td>\n",
       "    </tr>\n",
       "    <tr>\n",
       "      <th>6</th>\n",
       "      <td>Mizone</td>\n",
       "      <td>1.350000e+18</td>\n",
       "      <td>Tue Jan 19 12:01:15 +0000 2021</td>\n",
       "      <td>&lt;a href=\"http://twitter.com/download/android\" rel=\"nofollow\"&gt;Twitter for Android&lt;/a&gt;</td>\n",
       "      <td>fancam ujung dance dreams come true di indomaret wjsn xuanyi chengxiao bona mizone  https://t.co...</td>\n",
       "      <td>fancam ujung dance dreams come true indomaret wjsn xuanyi chengxiao bona mizone</td>\n",
       "      <td>in</td>\n",
       "      <td>0</td>\n",
       "      <td>0</td>\n",
       "      <td>kenapajak</td>\n",
       "      <td>False</td>\n",
       "      <td>NaN</td>\n",
       "      <td>subtanyarl</td>\n",
       "      <td>Lombok Barat, Nusa Tenggara Ba</td>\n",
       "      <td>NaN</td>\n",
       "      <td>2021-01-19</td>\n",
       "      <td>19:01:15</td>\n",
       "    </tr>\n",
       "    <tr>\n",
       "      <th>7</th>\n",
       "      <td>Mizone</td>\n",
       "      <td>1.350000e+18</td>\n",
       "      <td>Tue Jan 19 07:10:26 +0000 2021</td>\n",
       "      <td>&lt;a href=\"http://twitter.com/download/android\" rel=\"nofollow\"&gt;Twitter for Android&lt;/a&gt;</td>\n",
       "      <td>@msofyan Kacang kacang kacang...\\r\\nTahu tahu tahu....\\r\\nMizone nya kak https://t.co/5BY81L1oZP</td>\n",
       "      <td>kacang kacang kacang mizone nya kak</td>\n",
       "      <td>in</td>\n",
       "      <td>0</td>\n",
       "      <td>0</td>\n",
       "      <td>heffheven</td>\n",
       "      <td>False</td>\n",
       "      <td>NaN</td>\n",
       "      <td>FiersaBesari</td>\n",
       "      <td>⌗ ❍ SHE/HER O5TEEN \\r\\n</td>\n",
       "      <td>NaN</td>\n",
       "      <td>2021-01-19</td>\n",
       "      <td>14:10:26</td>\n",
       "    </tr>\n",
       "    <tr>\n",
       "      <th>8</th>\n",
       "      <td>Mizone</td>\n",
       "      <td>1.350000e+18</td>\n",
       "      <td>Mon Jan 18 20:48:17 +0000 2021</td>\n",
       "      <td>&lt;a href=\"http://twitter.com/download/android\" rel=\"nofollow\"&gt;Twitter for Android&lt;/a&gt;</td>\n",
       "      <td>@subtanyarl kalo lagi sakit minum nya bear brand, kalo lagi capek minum nya pocari sweat/ mizone...</td>\n",
       "      <td>sakit minum nya bear brand capek minum nya pocari sweat mizone leci lemon</td>\n",
       "      <td>in</td>\n",
       "      <td>0</td>\n",
       "      <td>0</td>\n",
       "      <td>mangojuiceeeeee</td>\n",
       "      <td>False</td>\n",
       "      <td>NaN</td>\n",
       "      <td>sheiskies</td>\n",
       "      <td>United States</td>\n",
       "      <td>NaN</td>\n",
       "      <td>2021-01-19</td>\n",
       "      <td>03:48:17</td>\n",
       "    </tr>\n",
       "    <tr>\n",
       "      <th>9</th>\n",
       "      <td>Mizone</td>\n",
       "      <td>1.350000e+18</td>\n",
       "      <td>Mon Jan 18 13:14:54 +0000 2021</td>\n",
       "      <td>&lt;a href=\"http://twitter.com/download/android\" rel=\"nofollow\"&gt;Twitter for Android&lt;/a&gt;</td>\n",
       "      <td>@FiersaBesari Wiihh..ngikutin SNK bung</td>\n",
       "      <td>wiihh ngikutin snk bung</td>\n",
       "      <td>in</td>\n",
       "      <td>0</td>\n",
       "      <td>0</td>\n",
       "      <td>Mizone_DLaw</td>\n",
       "      <td>False</td>\n",
       "      <td>NaN</td>\n",
       "      <td>lalanakabupaten</td>\n",
       "      <td>Japan. #NEOBG. Trio Joinin. ⲊᎬᏴᎪⲊᎢᎪ</td>\n",
       "      <td>NaN</td>\n",
       "      <td>2021-01-18</td>\n",
       "      <td>20:14:54</td>\n",
       "    </tr>\n",
       "  </tbody>\n",
       "</table>\n",
       "</div>"
      ],
      "text/plain": [
       "  Product            id                      created_at  \\\n",
       "0  Mizone  1.350000e+18  Wed Jan 20 01:19:59 +0000 2021   \n",
       "1  Mizone  1.350000e+18  Tue Jan 19 18:19:53 +0000 2021   \n",
       "2  Mizone  1.350000e+18  Tue Jan 19 17:13:16 +0000 2021   \n",
       "3  Mizone  1.350000e+18  Tue Jan 19 14:42:05 +0000 2021   \n",
       "4  Mizone  1.350000e+18  Tue Jan 19 14:25:49 +0000 2021   \n",
       "5  Mizone  1.350000e+18  Tue Jan 19 14:07:58 +0000 2021   \n",
       "6  Mizone  1.350000e+18  Tue Jan 19 12:01:15 +0000 2021   \n",
       "7  Mizone  1.350000e+18  Tue Jan 19 07:10:26 +0000 2021   \n",
       "8  Mizone  1.350000e+18  Mon Jan 18 20:48:17 +0000 2021   \n",
       "9  Mizone  1.350000e+18  Mon Jan 18 13:14:54 +0000 2021   \n",
       "\n",
       "                                                                                 source  \\\n",
       "0  <a href=\"http://twitter.com/download/android\" rel=\"nofollow\">Twitter for Android</a>   \n",
       "1    <a href=\"http://twitter.com/download/iphone\" rel=\"nofollow\">Twitter for iPhone</a>   \n",
       "2  <a href=\"http://twitter.com/download/android\" rel=\"nofollow\">Twitter for Android</a>   \n",
       "3  <a href=\"http://twitter.com/download/android\" rel=\"nofollow\">Twitter for Android</a>   \n",
       "4  <a href=\"http://twitter.com/download/android\" rel=\"nofollow\">Twitter for Android</a>   \n",
       "5    <a href=\"http://twitter.com/download/iphone\" rel=\"nofollow\">Twitter for iPhone</a>   \n",
       "6  <a href=\"http://twitter.com/download/android\" rel=\"nofollow\">Twitter for Android</a>   \n",
       "7  <a href=\"http://twitter.com/download/android\" rel=\"nofollow\">Twitter for Android</a>   \n",
       "8  <a href=\"http://twitter.com/download/android\" rel=\"nofollow\">Twitter for Android</a>   \n",
       "9  <a href=\"http://twitter.com/download/android\" rel=\"nofollow\">Twitter for Android</a>   \n",
       "\n",
       "                                                                                         original_text  \\\n",
       "0                                       @chridst tidak suuzone karena gue maunya mizone, ayo beri satu   \n",
       "1                           @bdngfess Nu kieu yeuh kangen berat sabelah teh\\r\\nInget nder iklan mizone   \n",
       "2                                     @menggelinjanq @andhikahehe @KarlinaFebri19 yaudah, deddy mizone   \n",
       "3                                         @tjaennie @minjoooz @chaerylei @ljungwu pake z berasa mizone   \n",
       "4  @subtanyarl waktu umur 2 tahunan GUE MINUM MINYAK GAS HAHAHAA, terus seisi rumah pada panik. ken...   \n",
       "5  Aqua bisa ekspansi pasarnya dan buka pabrik tambahan sana sini yg bikin produksi &amp; aktivitas...   \n",
       "6  fancam ujung dance dreams come true di indomaret wjsn xuanyi chengxiao bona mizone  https://t.co...   \n",
       "7     @msofyan Kacang kacang kacang...\\r\\nTahu tahu tahu....\\r\\nMizone nya kak https://t.co/5BY81L1oZP   \n",
       "8  @subtanyarl kalo lagi sakit minum nya bear brand, kalo lagi capek minum nya pocari sweat/ mizone...   \n",
       "9                                                               @FiersaBesari Wiihh..ngikutin SNK bung   \n",
       "\n",
       "                                                                                            clean_text  \\\n",
       "0                                                                      tidak suuzone maunya mizone ayo   \n",
       "1                                               nu kieu yeuh kangen sabelah tehinget nder iklan mizone   \n",
       "2                                                                                ya sudah deddy mizone   \n",
       "3                                                                                pakai z berasa mizone   \n",
       "4  umur tahunan minum minyak gas hahahaa seisi rumah panik minum minyak tidak tuh minyak botol nya ...   \n",
       "5  aqua ekspansi pasarnya buka pabrik tambahan bikin produksi amp aktivitas perusahaannya bikin miz...   \n",
       "6                      fancam ujung dance dreams come true indomaret wjsn xuanyi chengxiao bona mizone   \n",
       "7                                                                  kacang kacang kacang mizone nya kak   \n",
       "8                            sakit minum nya bear brand capek minum nya pocari sweat mizone leci lemon   \n",
       "9                                                                              wiihh ngikutin snk bung   \n",
       "\n",
       "  lang  favorite_count  retweet_count  original_author possibly_sensitive  \\\n",
       "0   in               0              0        heouaisha              False   \n",
       "1   in               0              0          Kasoy29              False   \n",
       "2   in               0              0   JosriSeptianto              False   \n",
       "3   in               0              0         heetjins              False   \n",
       "4   in               0              0          oxylome              False   \n",
       "5   in               0              0         taequela              False   \n",
       "6   in               0              0        kenapajak              False   \n",
       "7   in               0              0        heffheven              False   \n",
       "8   in               0              0  mangojuiceeeeee              False   \n",
       "9   in               0              0      Mizone_DLaw              False   \n",
       "\n",
       "                                        hashtags  \\\n",
       "0  coveriklan, voiceover, pengisisuara, votalent   \n",
       "1               RakyatDikelabui, RakyatDikelabui   \n",
       "2                                            NaN   \n",
       "3                                            NaN   \n",
       "4                                            NaN   \n",
       "5                                            NaN   \n",
       "6                                            NaN   \n",
       "7                                            NaN   \n",
       "8                                            NaN   \n",
       "9                                            NaN   \n",
       "\n",
       "                                user_mentions  \\\n",
       "0                                     chridst   \n",
       "1                                    bdngfess   \n",
       "2  menggelinjanq, andhikahehe, KarlinaFebri19   \n",
       "3      tjaennie, minjoooz, chaerylei, ljungwu   \n",
       "4                                  subtanyarl   \n",
       "5                                     msofyan   \n",
       "6                                  subtanyarl   \n",
       "7                                FiersaBesari   \n",
       "8                                   sheiskies   \n",
       "9                             lalanakabupaten   \n",
       "\n",
       "                                 place  \\\n",
       "0                  forever disneyfams.   \n",
       "1            6°48'21.7\"S 107°37'12.8\"E   \n",
       "2                         haūs : ngoog   \n",
       "3                                 lost   \n",
       "4                              vottom🍊   \n",
       "5                             Zimbabwe   \n",
       "6       Lombok Barat, Nusa Tenggara Ba   \n",
       "7      ⌗ ❍ SHE/HER O5TEEN \\r\\n           \n",
       "8                        United States   \n",
       "9  Japan. #NEOBG. Trio Joinin. ⲊᎬᏴᎪⲊᎢᎪ   \n",
       "\n",
       "                                                                                place_coord_boundaries  \\\n",
       "0       [[112.59649, -8.131789], [112.69126, -8.131789], [112.69126, -8.04802], [112.59649, -8.04802]]   \n",
       "1  [[101.4761877, 2.9745362], [101.6291504, 2.9745362], [101.6291504, 3.1279044], [101.4761877, 3.1...   \n",
       "2  [[116.1127404, -8.623615], [116.164731, -8.623615], [116.164731, -8.563715], [116.1127404, -8.56...   \n",
       "3     [[116.0689, -8.651347], [116.1688219, -8.651347], [116.1688219, -8.60494], [116.0689, -8.60494]]   \n",
       "4  [[106.721034, -6.217601], [106.770437, -6.217601], [106.770437, -6.154872], [106.721034, -6.1548...   \n",
       "5                                                                                                  NaN   \n",
       "6                                                                                                  NaN   \n",
       "7                                                                                                  NaN   \n",
       "8                                                                                                  NaN   \n",
       "9                                                                                                  NaN   \n",
       "\n",
       "  date_created time_created  \n",
       "0   2021-01-20     08:19:59  \n",
       "1   2021-01-20     01:19:53  \n",
       "2   2021-01-20     00:13:16  \n",
       "3   2021-01-19     21:42:05  \n",
       "4   2021-01-19     21:25:49  \n",
       "5   2021-01-19     21:07:58  \n",
       "6   2021-01-19     19:01:15  \n",
       "7   2021-01-19     14:10:26  \n",
       "8   2021-01-19     03:48:17  \n",
       "9   2021-01-18     20:14:54  "
      ]
     },
     "execution_count": 263,
     "metadata": {},
     "output_type": "execute_result"
    }
   ],
   "source": [
    "df.head(10)"
   ]
  },
  {
   "cell_type": "code",
   "execution_count": 264,
   "metadata": {},
   "outputs": [
    {
     "data": {
      "text/plain": [
       "837"
      ]
     },
     "execution_count": 264,
     "metadata": {},
     "output_type": "execute_result"
    }
   ],
   "source": [
    "len(df)"
   ]
  },
  {
   "cell_type": "markdown",
   "metadata": {},
   "source": [
    "Removing Duplicate if any"
   ]
  },
  {
   "cell_type": "code",
   "execution_count": 265,
   "metadata": {},
   "outputs": [],
   "source": [
    "df = df.drop_duplicates()\n",
    "df = df.reset_index(drop=True)"
   ]
  },
  {
   "cell_type": "code",
   "execution_count": 266,
   "metadata": {},
   "outputs": [
    {
     "data": {
      "text/plain": [
       "837"
      ]
     },
     "execution_count": 266,
     "metadata": {},
     "output_type": "execute_result"
    }
   ],
   "source": [
    "len(df)"
   ]
  },
  {
   "cell_type": "markdown",
   "metadata": {},
   "source": [
    "# Extra Cleaning"
   ]
  },
  {
   "cell_type": "code",
   "execution_count": 267,
   "metadata": {},
   "outputs": [
    {
     "data": {
      "text/plain": [
       "Series([], Name: original_text, dtype: object)"
      ]
     },
     "execution_count": 267,
     "metadata": {},
     "output_type": "execute_result"
    }
   ],
   "source": [
    "pd.set_option('display.max_colwidth', None)\n",
    "df[df['clean_text'].isnull()==True]['original_text']"
   ]
  },
  {
   "cell_type": "markdown",
   "metadata": {},
   "source": [
    "Removing Observation that the text become empty after cleaning, indicating that the text doesn't have significance sentiment"
   ]
  },
  {
   "cell_type": "code",
   "execution_count": 268,
   "metadata": {},
   "outputs": [],
   "source": [
    "df = df.dropna(subset=['clean_text'])\n",
    "df = df.reset_index(drop=True)"
   ]
  },
  {
   "cell_type": "code",
   "execution_count": 269,
   "metadata": {},
   "outputs": [
    {
     "data": {
      "text/plain": [
       "Product                     0\n",
       "id                          0\n",
       "created_at                  0\n",
       "source                      0\n",
       "original_text               0\n",
       "clean_text                  0\n",
       "lang                        0\n",
       "favorite_count              0\n",
       "retweet_count               0\n",
       "original_author             0\n",
       "possibly_sensitive        721\n",
       "hashtags                  784\n",
       "user_mentions             243\n",
       "place                     300\n",
       "place_coord_boundaries    824\n",
       "date_created                0\n",
       "time_created                0\n",
       "dtype: int64"
      ]
     },
     "execution_count": 269,
     "metadata": {},
     "output_type": "execute_result"
    }
   ],
   "source": [
    "df.isnull().sum()"
   ]
  },
  {
   "cell_type": "code",
   "execution_count": 270,
   "metadata": {},
   "outputs": [
    {
     "data": {
      "text/plain": [
       "java    1\n",
       "Name: lang, dtype: int64"
      ]
     },
     "execution_count": 270,
     "metadata": {},
     "output_type": "execute_result"
    }
   ],
   "source": [
    "df[df['lang']!='in']['lang'].value_counts()"
   ]
  },
  {
   "cell_type": "markdown",
   "metadata": {},
   "source": [
    "As there are some word not in Indonesian, possibly indonesian people using other language to tweet, those text will be translated in order to process the text"
   ]
  },
  {
   "cell_type": "code",
   "execution_count": 271,
   "metadata": {},
   "outputs": [],
   "source": [
    "def trans(x,src):\n",
    "    translator = Translator()\n",
    "    try:\n",
    "        sentence = translator.translate(x, src=src,dest='id').text\n",
    "    except:\n",
    "        \n",
    "        \n",
    "        sentence = x\n",
    "    return sentence"
   ]
  },
  {
   "cell_type": "code",
   "execution_count": 272,
   "metadata": {},
   "outputs": [],
   "source": [
    "df['clean_text'] = df.apply(lambda x: trans(x['clean_text'],x['lang']) if(x['lang']!='in') else x['clean_text'],axis=1)"
   ]
  },
  {
   "cell_type": "code",
   "execution_count": 273,
   "metadata": {},
   "outputs": [],
   "source": [
    "clean_text = df['clean_text'].copy()"
   ]
  },
  {
   "cell_type": "code",
   "execution_count": 274,
   "metadata": {},
   "outputs": [
    {
     "data": {
      "text/plain": [
       "822                                          hand sanitizer masker hydro coco bits ikutan follow like akun\n",
       "823                                                                                        hydro coco aneh\n",
       "824                                                  geus paling benar hydro coco oplos susu beruang ieumh\n",
       "825                                                                          tim hydro coco or pocarisweat\n",
       "826                                                                          tim hydro coco or pocarisweat\n",
       "827                                                                            hydro coco susu beruang jos\n",
       "828                                                                           kasih hydro coco biar netral\n",
       "829    perdana sukses makmurneed spg mobile product adem sari hydro coco serius pekerjaan motor ulet ju...\n",
       "830                   sak kecamatan ae cukup sampian rene mbak kerjo ning pabrik hydro coco tidak sherlock\n",
       "831    moga dicoba hydro coco mudah didapat alfamart indomaret obat konsul dokter vitamin dicoba utaman...\n",
       "832    penderita covid kesulitan makan selera hilang perut pun mual asupan masuk pengalaman cobalah min...\n",
       "833                                                                            yyy bilang seduh hydro coco\n",
       "834                  ngefek sii seger pas bangun tidur susu beruangnya tu campur hydro coco nata adik coco\n",
       "835                                                                               jam pagi beli hydro coco\n",
       "836                                                                                hydro coco enak banget \n",
       "Name: clean_text, dtype: object"
      ]
     },
     "execution_count": 274,
     "metadata": {},
     "output_type": "execute_result"
    }
   ],
   "source": [
    "pd.set_option('display.max_colwidth', 100)\n",
    "clean_text.tail(15)"
   ]
  },
  {
   "cell_type": "code",
   "execution_count": 275,
   "metadata": {},
   "outputs": [],
   "source": [
    "def repair_exaggeration(x):\n",
    "    word_tokens = word_tokenize(x)\n",
    "    new_x =''\n",
    "    for i in word_tokens:\n",
    "        if (i =='susu'):\n",
    "            new = re.sub(r'(\\w)\\1\\1+',r'\\1\\1',i)\n",
    "            new_x = new_x +new+' '\n",
    "        elif(i =='cucu'):\n",
    "            new = 'susu'\n",
    "            new_x = new_x +new+' '\n",
    "        else:\n",
    "            new = re.sub(r'(\\w)\\1\\1\\1+',r'\\1',i)\n",
    "            new_x = new_x +new+' '\n",
    "    return new_x\n",
    "\n",
    "\n",
    "def del_word(x,key_list):\n",
    "    n = len(key_list)\n",
    "    word_tokens = word_tokenize(x)\n",
    "    new_x =''\n",
    "    for word in word_tokens:\n",
    "        if word not in key_list:\n",
    "            new_x = new_x+word+' '\n",
    "    return new_x\n",
    "\n",
    "def clean_tweets(tweet):\n",
    "   # nltk.download('stopwords')\n",
    "    my_file = open(\"cleaning_source/combined_stop_words.txt\", \"r\")\n",
    "    content = my_file.read()\n",
    "    stop_words = content.split(\"\\n\")\n",
    "    file_2  = open(\"cleaning_source/update_combined_slang_words.txt\", \"r\")\n",
    "    content2 = file_2.read()\n",
    "    slang_words = ast.literal_eval(content2)\n",
    "    my_file.close()\n",
    "    file_2.close()\n",
    "\n",
    "    tweet = tweet.lower()\n",
    "    #after tweepy preprocessing the colon left remain after removing mentions\n",
    "    #or RT sign in the beginning of the tweet\n",
    "    tweet = re.sub(r':', '', tweet)\n",
    "    tweet = re.sub(r'‚Ä¶', '', tweet)\n",
    "    #replace consecutive non-ASCII characters with a space\n",
    "    tweet = re.sub(r'[^\\x00-\\x7F]+',' ', tweet)\n",
    "\n",
    "    #remove emojis from tweet\n",
    "    #tweet = emoji_pattern.sub(r'', tweet)\n",
    "    \n",
    "    #remove punctuation manually\n",
    "    tweet = re.sub('[^a-zA-Z]', ' ', tweet)\n",
    "    \n",
    "    #remove tags\n",
    "    tweet=re.sub(\"&lt;/?.*?&gt;\",\"&lt;&gt;\",tweet)\n",
    "    \n",
    "    #remove digits and special chars\n",
    "    tweet=re.sub(\"(\\\\d|\\\\W)+\",\" \",tweet)\n",
    "\n",
    "    #remove other symbol from tweet\n",
    "    tweet = re.sub(r'â', '', tweet)\n",
    "    tweet = re.sub(r'€', '', tweet)\n",
    "    tweet = re.sub(r'¦', '', tweet)\n",
    "\n",
    "    word_tokens = word_tokenize(tweet)\n",
    "    for w in word_tokens:\n",
    "        if w in slang_words.keys():\n",
    "            word_tokens[word_tokens.index(w)] = slang_words[w]\n",
    "\n",
    "    #filter using NLTK library append it to a string\n",
    "    filtered_tweet = [w for w in word_tokens if not w in stop_words]\n",
    "    filtered_tweet = []\n",
    "\n",
    "    #looping through conditions\n",
    "    for w in word_tokens:\n",
    "        #check tokens against stop words , emoticons and punctuations\n",
    "        if w not in stop_words and w not in string.punctuation:\n",
    "            filtered_tweet.append(w.lower())\n",
    "    return ' '.join(filtered_tweet)\n",
    "\n",
    "def count_words(x):\n",
    "    words = word_tokenize(x)\n",
    "    n=len(words)\n",
    "    return n"
   ]
  },
  {
   "cell_type": "markdown",
   "metadata": {},
   "source": [
    "Cleaning text that exaggerate the typing such as 'cucu (susu)'"
   ]
  },
  {
   "cell_type": "code",
   "execution_count": 276,
   "metadata": {},
   "outputs": [],
   "source": [
    "clean_text_exag = clean_text.apply(lambda x: repair_exaggeration(x))"
   ]
  },
  {
   "cell_type": "markdown",
   "metadata": {},
   "source": [
    "Recleaning after remove exaggeration"
   ]
  },
  {
   "cell_type": "code",
   "execution_count": 277,
   "metadata": {},
   "outputs": [],
   "source": [
    "re_clean = clean_text_exag.apply(lambda x: clean_tweets(x))"
   ]
  },
  {
   "cell_type": "markdown",
   "metadata": {},
   "source": [
    "we use keywords for querying data, now we need to remove them as it will all found in every sentence in this data frame"
   ]
  },
  {
   "cell_type": "code",
   "execution_count": 278,
   "metadata": {},
   "outputs": [],
   "source": [
    "keyword = []\n",
    "clean_text_extra = re_clean.apply(lambda x: del_word(x,keyword))"
   ]
  },
  {
   "cell_type": "code",
   "execution_count": 279,
   "metadata": {},
   "outputs": [
    {
     "data": {
      "text/plain": [
       "822                                         hand sanitizer masker hydro coco bits ikutan follow like akun \n",
       "823                                                                                       hydro coco aneh \n",
       "824                                                 geus paling benar hydro coco oplos susu beruang ieumh \n",
       "825                                                                        tim hydro coco or pocari sweat \n",
       "826                                                                        tim hydro coco or pocari sweat \n",
       "827                                                                           hydro coco susu beruang jos \n",
       "828                                                                          kasih hydro coco biar netral \n",
       "829    perdana sukses makmurneed spg mobile product adem sari hydro coco serius pekerjaan motor ulet ju...\n",
       "830                        sak kecamatan ae sampian rene mbak kerjo ning pabrik hydro coco tidak sherlock \n",
       "831    moga dicoba hydro coco mudah didapat alfamart indomaret obat konsul dokter vitamin dicoba utaman...\n",
       "832    penderita covid kesulitan makan selera hilang perut mual asupan masuk pengalaman cobalah minum h...\n",
       "833                                                                           yyy bilang seduh hydro coco \n",
       "834                 ngefek sii seger pas bangun tidur susu beruangnya tu campur hydro coco nata adik coco \n",
       "835                                                                              jam pagi beli hydro coco \n",
       "836                                                                                hydro coco enak banget \n",
       "Name: clean_text, dtype: object"
      ]
     },
     "execution_count": 279,
     "metadata": {},
     "output_type": "execute_result"
    }
   ],
   "source": [
    "clean_text_extra.tail(15)"
   ]
  },
  {
   "cell_type": "code",
   "execution_count": 280,
   "metadata": {},
   "outputs": [],
   "source": [
    "df['clean_text'] = clean_text_extra"
   ]
  },
  {
   "cell_type": "code",
   "execution_count": 281,
   "metadata": {},
   "outputs": [],
   "source": [
    "df['word_length'] = df['clean_text'].apply(lambda x:count_words(x))"
   ]
  },
  {
   "cell_type": "code",
   "execution_count": 282,
   "metadata": {},
   "outputs": [
    {
     "data": {
      "text/plain": [
       "1      5\n",
       "2     53\n",
       "3     43\n",
       "4     57\n",
       "5     67\n",
       "6     61\n",
       "7     54\n",
       "8     45\n",
       "9     50\n",
       "10    47\n",
       "11    37\n",
       "12    54\n",
       "13    39\n",
       "14    21\n",
       "15    27\n",
       "16    16\n",
       "17    23\n",
       "18    12\n",
       "19    10\n",
       "20     8\n",
       "21    12\n",
       "22    26\n",
       "23    10\n",
       "24     7\n",
       "25     7\n",
       "26     7\n",
       "27     4\n",
       "28     9\n",
       "29     8\n",
       "30     5\n",
       "31     4\n",
       "32     3\n",
       "33     3\n",
       "35     2\n",
       "38     1\n",
       "Name: word_length, dtype: int64"
      ]
     },
     "execution_count": 282,
     "metadata": {},
     "output_type": "execute_result"
    }
   ],
   "source": [
    "df['word_length'].value_counts().sort_index()"
   ]
  },
  {
   "cell_type": "code",
   "execution_count": 283,
   "metadata": {},
   "outputs": [],
   "source": [
    "df = df.drop(df[df['word_length']==0].index,axis=0)\n",
    "df = df.reset_index(drop=True)"
   ]
  },
  {
   "cell_type": "markdown",
   "metadata": {},
   "source": [
    "# Word Processing¶\n"
   ]
  },
  {
   "cell_type": "markdown",
   "metadata": {},
   "source": [
    "## Create word dictionary"
   ]
  },
  {
   "cell_type": "code",
   "execution_count": 284,
   "metadata": {},
   "outputs": [],
   "source": [
    "word_dict = {}\n",
    "for i in range(0,len(df['clean_text'])):\n",
    "    sentence = df['clean_text'][i]\n",
    "    word_token = word_tokenize(sentence)\n",
    "    for j in word_token:\n",
    "        if j not in word_dict:\n",
    "            word_dict[j] = 1\n",
    "        else:\n",
    "            word_dict[j] += 1"
   ]
  },
  {
   "cell_type": "code",
   "execution_count": 285,
   "metadata": {},
   "outputs": [
    {
     "data": {
      "text/plain": [
       "2690"
      ]
     },
     "execution_count": 285,
     "metadata": {},
     "output_type": "execute_result"
    }
   ],
   "source": [
    "len(word_dict)"
   ]
  },
  {
   "cell_type": "code",
   "execution_count": 286,
   "metadata": {},
   "outputs": [
    {
     "data": {
      "text/plain": [
       "2318"
      ]
     },
     "execution_count": 286,
     "metadata": {},
     "output_type": "execute_result"
    }
   ],
   "source": [
    "len({k:v for (k,v) in word_dict.items() if v < 4})"
   ]
  },
  {
   "cell_type": "markdown",
   "metadata": {},
   "source": [
    "## Import Lexicon data"
   ]
  },
  {
   "cell_type": "markdown",
   "metadata": {},
   "source": [
    "\n",
    "import lexicon, and remove negation words from lexicon, the lexicon is a combination from several sources below, that combined together, and include swear words which has the most negative score\n",
    "\n",
    "sources :\n",
    "\n",
    "https://github.com/louisowen6/NLP_bahasa_resources\n",
    "\n",
    "https://github.com/abhimantramb/elang/blob/master/word2vec/utils/swear-words.txt\n",
    "\n",
    "https://github.com/fajri91/InSet\n",
    "\n",
    "https://github.com/agusmakmun/SentiStrengthID/blob/master/id_dict/sentimentword.txt"
   ]
  },
  {
   "cell_type": "code",
   "execution_count": 287,
   "metadata": {},
   "outputs": [],
   "source": [
    "negasi = ['bukan','tidak','ga','gk', 'gak']\n",
    "lexicon = pd.read_csv('lexicon/modified_full_lexicon.csv')\n",
    "lexicon = lexicon.drop(lexicon[(lexicon['word'] == 'bukan')\n",
    "                               |(lexicon['word'] == 'tidak')\n",
    "                               |(lexicon['word'] == 'ga')|(lexicon['word'] == 'gk') | (lexicon['word'] == 'gak')].index,axis=0)\n",
    "lexicon = lexicon.reset_index(drop=True)"
   ]
  },
  {
   "cell_type": "code",
   "execution_count": 288,
   "metadata": {},
   "outputs": [
    {
     "data": {
      "text/plain": [
       "10265"
      ]
     },
     "execution_count": 288,
     "metadata": {},
     "output_type": "execute_result"
    }
   ],
   "source": [
    "len(lexicon)"
   ]
  },
  {
   "cell_type": "code",
   "execution_count": 289,
   "metadata": {},
   "outputs": [
    {
     "data": {
      "text/html": [
       "<div>\n",
       "<style scoped>\n",
       "    .dataframe tbody tr th:only-of-type {\n",
       "        vertical-align: middle;\n",
       "    }\n",
       "\n",
       "    .dataframe tbody tr th {\n",
       "        vertical-align: top;\n",
       "    }\n",
       "\n",
       "    .dataframe thead th {\n",
       "        text-align: right;\n",
       "    }\n",
       "</style>\n",
       "<table border=\"1\" class=\"dataframe\">\n",
       "  <thead>\n",
       "    <tr style=\"text-align: right;\">\n",
       "      <th></th>\n",
       "      <th>word</th>\n",
       "      <th>weight</th>\n",
       "      <th>number_of_words</th>\n",
       "    </tr>\n",
       "  </thead>\n",
       "  <tbody>\n",
       "    <tr>\n",
       "      <th>0</th>\n",
       "      <td>hai</td>\n",
       "      <td>3</td>\n",
       "      <td>1</td>\n",
       "    </tr>\n",
       "    <tr>\n",
       "      <th>1</th>\n",
       "      <td>merekam</td>\n",
       "      <td>2</td>\n",
       "      <td>1</td>\n",
       "    </tr>\n",
       "    <tr>\n",
       "      <th>2</th>\n",
       "      <td>ekstensif</td>\n",
       "      <td>3</td>\n",
       "      <td>1</td>\n",
       "    </tr>\n",
       "    <tr>\n",
       "      <th>3</th>\n",
       "      <td>paripurna</td>\n",
       "      <td>1</td>\n",
       "      <td>1</td>\n",
       "    </tr>\n",
       "    <tr>\n",
       "      <th>4</th>\n",
       "      <td>bisa</td>\n",
       "      <td>5</td>\n",
       "      <td>1</td>\n",
       "    </tr>\n",
       "    <tr>\n",
       "      <th>5</th>\n",
       "      <td>detail</td>\n",
       "      <td>2</td>\n",
       "      <td>1</td>\n",
       "    </tr>\n",
       "    <tr>\n",
       "      <th>6</th>\n",
       "      <td>pernik</td>\n",
       "      <td>3</td>\n",
       "      <td>1</td>\n",
       "    </tr>\n",
       "    <tr>\n",
       "      <th>7</th>\n",
       "      <td>belas</td>\n",
       "      <td>2</td>\n",
       "      <td>1</td>\n",
       "    </tr>\n",
       "    <tr>\n",
       "      <th>8</th>\n",
       "      <td>welas</td>\n",
       "      <td>4</td>\n",
       "      <td>1</td>\n",
       "    </tr>\n",
       "    <tr>\n",
       "      <th>9</th>\n",
       "      <td>kabung</td>\n",
       "      <td>1</td>\n",
       "      <td>1</td>\n",
       "    </tr>\n",
       "    <tr>\n",
       "      <th>10</th>\n",
       "      <td>rahayu</td>\n",
       "      <td>4</td>\n",
       "      <td>1</td>\n",
       "    </tr>\n",
       "    <tr>\n",
       "      <th>11</th>\n",
       "      <td>maaf</td>\n",
       "      <td>2</td>\n",
       "      <td>1</td>\n",
       "    </tr>\n",
       "    <tr>\n",
       "      <th>12</th>\n",
       "      <td>hello</td>\n",
       "      <td>2</td>\n",
       "      <td>1</td>\n",
       "    </tr>\n",
       "    <tr>\n",
       "      <th>13</th>\n",
       "      <td>promo</td>\n",
       "      <td>3</td>\n",
       "      <td>1</td>\n",
       "    </tr>\n",
       "    <tr>\n",
       "      <th>14</th>\n",
       "      <td>terimakasih</td>\n",
       "      <td>5</td>\n",
       "      <td>1</td>\n",
       "    </tr>\n",
       "    <tr>\n",
       "      <th>15</th>\n",
       "      <td>kasih</td>\n",
       "      <td>2</td>\n",
       "      <td>0</td>\n",
       "    </tr>\n",
       "    <tr>\n",
       "      <th>16</th>\n",
       "      <td>cover</td>\n",
       "      <td>3</td>\n",
       "      <td>1</td>\n",
       "    </tr>\n",
       "    <tr>\n",
       "      <th>17</th>\n",
       "      <td>mohon</td>\n",
       "      <td>2</td>\n",
       "      <td>1</td>\n",
       "    </tr>\n",
       "    <tr>\n",
       "      <th>18</th>\n",
       "      <td>mengawal</td>\n",
       "      <td>2</td>\n",
       "      <td>1</td>\n",
       "    </tr>\n",
       "    <tr>\n",
       "      <th>19</th>\n",
       "      <td>statistik</td>\n",
       "      <td>1</td>\n",
       "      <td>1</td>\n",
       "    </tr>\n",
       "  </tbody>\n",
       "</table>\n",
       "</div>"
      ],
      "text/plain": [
       "           word  weight  number_of_words\n",
       "0           hai       3                1\n",
       "1       merekam       2                1\n",
       "2     ekstensif       3                1\n",
       "3     paripurna       1                1\n",
       "4          bisa       5                1\n",
       "5        detail       2                1\n",
       "6        pernik       3                1\n",
       "7         belas       2                1\n",
       "8         welas       4                1\n",
       "9        kabung       1                1\n",
       "10       rahayu       4                1\n",
       "11         maaf       2                1\n",
       "12        hello       2                1\n",
       "13        promo       3                1\n",
       "14  terimakasih       5                1\n",
       "15        kasih       2                0\n",
       "16        cover       3                1\n",
       "17        mohon       2                1\n",
       "18     mengawal       2                1\n",
       "19    statistik       1                1"
      ]
     },
     "execution_count": 289,
     "metadata": {},
     "output_type": "execute_result"
    }
   ],
   "source": [
    "lexicon.head(20)"
   ]
  },
  {
   "cell_type": "code",
   "execution_count": 290,
   "metadata": {},
   "outputs": [],
   "source": [
    "lexicon_word = lexicon['word'].to_list()\n",
    "lexicon_num_words = lexicon['number_of_words']"
   ]
  },
  {
   "cell_type": "code",
   "execution_count": 291,
   "metadata": {},
   "outputs": [
    {
     "data": {
      "text/plain": [
       "10265"
      ]
     },
     "execution_count": 291,
     "metadata": {},
     "output_type": "execute_result"
    }
   ],
   "source": [
    "len(lexicon_word)"
   ]
  },
  {
   "cell_type": "markdown",
   "metadata": {},
   "source": [
    "Checking if there is words in dictionary that does not included in the lexicon"
   ]
  },
  {
   "cell_type": "code",
   "execution_count": 292,
   "metadata": {},
   "outputs": [
    {
     "data": {
      "text/plain": [
       "1798"
      ]
     },
     "execution_count": 292,
     "metadata": {},
     "output_type": "execute_result"
    }
   ],
   "source": [
    "ns_words = []\n",
    "factory = StemmerFactory()\n",
    "stemmer = factory.create_stemmer()\n",
    "for word in word_dict.keys():\n",
    "    if word not in lexicon_word:\n",
    "        kata_dasar = stemmer.stem(word)\n",
    "        if kata_dasar not in lexicon_word:\n",
    "            ns_words.append(word)\n",
    "len(ns_words)"
   ]
  },
  {
   "cell_type": "markdown",
   "metadata": {},
   "source": [
    "Let's take a look what kind of words they are, lets start with some words that have many occurences as this most likely not a type case"
   ]
  },
  {
   "cell_type": "code",
   "execution_count": 293,
   "metadata": {},
   "outputs": [
    {
     "data": {
      "text/plain": [
       "203"
      ]
     },
     "execution_count": 293,
     "metadata": {},
     "output_type": "execute_result"
    }
   ],
   "source": [
    "len({k:v for (k,v) in word_dict.items() if ((k in ns_words)&(v>3)) })"
   ]
  },
  {
   "cell_type": "code",
   "execution_count": 294,
   "metadata": {},
   "outputs": [],
   "source": [
    "ns_words_list = {k:v for (k,v) in word_dict.items() if ((k in ns_words)&(v>3))}"
   ]
  },
  {
   "cell_type": "code",
   "execution_count": 295,
   "metadata": {},
   "outputs": [
    {
     "name": "stdout",
     "output_type": "stream",
     "text": [
      "bear 277\n",
      "brand 265\n",
      "beruang 241\n",
      "pocari 162\n",
      "sweat 158\n",
      "coco 112\n",
      "hydro 109\n",
      "tidak 86\n",
      "ga 84\n",
      "pakai 52\n",
      "naga 46\n",
      "si 44\n",
      "iklan 42\n",
      "nya 42\n",
      "kucing 42\n",
      "vitamin 38\n",
      "sih 34\n",
      "deh 30\n",
      "c 28\n",
      "nder 27\n"
     ]
    }
   ],
   "source": [
    "sort_orders = sorted(ns_words_list.items(), key=lambda x: x[1], reverse=True)\n",
    "sort_orders=sort_orders[0:20]\n",
    "for i in sort_orders:\n",
    "    print(i[0], i[1])"
   ]
  },
  {
   "cell_type": "code",
   "execution_count": 296,
   "metadata": {},
   "outputs": [],
   "source": [
    "word_to_plot = df['original_author'].copy()"
   ]
  },
  {
   "cell_type": "code",
   "execution_count": 297,
   "metadata": {},
   "outputs": [],
   "source": [
    "word_to_plot_1 = word_to_plot.apply(lambda x: del_word(x,negasi))"
   ]
  },
  {
   "cell_type": "markdown",
   "metadata": {},
   "source": [
    "creating word cloud to see what kind of words that appear often in the tweets related to the product"
   ]
  },
  {
   "cell_type": "code",
   "execution_count": 298,
   "metadata": {},
   "outputs": [
    {
     "data": {
      "image/png": "[encoded data removed]",
      "text/plain": [
       "<Figure size 720x720 with 1 Axes>"
      ]
     },
     "metadata": {},
     "output_type": "display_data"
    }
   ],
   "source": [
    "wordcloud = WordCloud(width = 800, height = 800, background_color = 'turquoise', max_words = 1500\n",
    "                      , min_font_size = 20).generate(str(word_to_plot))\n",
    "#plot the word cloud\n",
    "fig = plt.figure(figsize = (10,10), facecolor = None)\n",
    "plt.imshow(wordcloud)\n",
    "plt.axis('off')\n",
    "plt.show()"
   ]
  },
  {
   "cell_type": "code",
   "execution_count": 299,
   "metadata": {},
   "outputs": [
    {
     "data": {
      "image/png": "[encoded data removed]",
      "text/plain": [
       "<Figure size 720x720 with 1 Axes>"
      ]
     },
     "metadata": {},
     "output_type": "display_data"
    }
   ],
   "source": [
    "wordcloud = WordCloud(width = 800, height = 800, background_color = 'deepskyblue', max_words = 1500\n",
    "                      , min_font_size = 20).generate(str(word_to_plot_1))\n",
    "#plot the word cloud\n",
    "fig = plt.figure(figsize = (10,10), facecolor = None)\n",
    "plt.imshow(wordcloud)\n",
    "plt.axis('off')\n",
    "plt.show()"
   ]
  },
  {
   "cell_type": "markdown",
   "metadata": {},
   "source": [
    "## sentiment"
   ]
  },
  {
   "cell_type": "code",
   "execution_count": 300,
   "metadata": {},
   "outputs": [
    {
     "data": {
      "text/plain": [
       "1    9552\n",
       "2     686\n",
       "3      24\n",
       "4       2\n",
       "0       1\n",
       "Name: number_of_words, dtype: int64"
      ]
     },
     "execution_count": 300,
     "metadata": {},
     "output_type": "execute_result"
    }
   ],
   "source": [
    "lexicon['number_of_words'].value_counts()"
   ]
  },
  {
   "cell_type": "markdown",
   "metadata": {},
   "source": [
    "calculating the sentiment of words by mathing them to the lexicon while also creating the bag of words matrix"
   ]
  },
  {
   "cell_type": "code",
   "execution_count": 301,
   "metadata": {},
   "outputs": [],
   "source": [
    "sencol =[]\n",
    "senrow =np.array([])\n",
    "nsen = 0\n",
    "factory = StemmerFactory()\n",
    "stemmer = factory.create_stemmer()\n",
    "sentiment_list = []\n",
    "# function to write the word's sentiment if it is founded\n",
    "def found_word(ind,words,word,sen,sencol,sentiment,add):\n",
    "    # if it is already included in the bag of words matrix, then just increase the value\n",
    "    if word in sencol:\n",
    "        sen[sencol.index(word)] += 1\n",
    "    else:\n",
    "    #if not, than add new word\n",
    "        sencol.append(word)\n",
    "        sen.append(1)\n",
    "        add += 1\n",
    "    #if there is a negation word before it, the sentiment would be the negation of it's sentiment\n",
    "    if (words[ind-1] in negasi):\n",
    "        sentiment += -lexicon['weight'][lexicon_word.index(word)]\n",
    "    else:\n",
    "        sentiment += lexicon['weight'][lexicon_word.index(word)]\n",
    "    \n",
    "    return sen,sencol,sentiment,add\n",
    "            \n",
    "# checking every words, if they are appear in the lexicon, and then calculate their sentiment if they do\n",
    "for i in range(len(df)):\n",
    "    nsen = senrow.shape[0]\n",
    "    words = word_tokenize(df['clean_text'][i])\n",
    "    sentiment = 0 \n",
    "    add = 0\n",
    "    prev = [0 for ii in range(len(words))]\n",
    "    n_words = len(words)\n",
    "    if len(sencol)>0:\n",
    "        sen =[0 for j in range(len(sencol))]\n",
    "    else:\n",
    "        sen =[]\n",
    "    \n",
    "    for word in words:\n",
    "        ind = words.index(word)\n",
    "        # check whether they are included in the lexicon\n",
    "        if word in lexicon_word :\n",
    "            sen,sencol,sentiment,add= found_word(ind,words,word,sen,sencol,sentiment,add)\n",
    "        else:\n",
    "        # if not, then check the root word\n",
    "            kata_dasar = stemmer.stem(word)\n",
    "            if kata_dasar in lexicon_word:\n",
    "                sen,sencol,sentiment,add= found_word(ind,words,kata_dasar,sen,sencol,sentiment,add)\n",
    "        # if still negative, try to match the combination of words with the adjacent words\n",
    "            elif(n_words>1):\n",
    "                if ind-1>-1:\n",
    "                    back_1    = words[ind-1]+' '+word\n",
    "                    if (back_1 in lexicon_word):\n",
    "                        sen,sencol,sentiment,add= found_word(ind,words,back_1,sen,sencol,sentiment,add)\n",
    "                    elif(ind-2>-1):\n",
    "                        back_2    = words[ind-2]+' '+back_1\n",
    "                        if back_2 in lexicon_word:\n",
    "                            sen,sencol,sentiment,add= found_word(ind,words,back_2,sen,sencol,sentiment,add)\n",
    "    # if there is new word founded, then expand the matrix\n",
    "    if add>0:  \n",
    "        if i>0:\n",
    "            if (nsen==0):\n",
    "                senrow = np.zeros([i,add],dtype=int)\n",
    "            elif(i!=nsen):\n",
    "                padding_h = np.zeros([nsen,add],dtype=int)\n",
    "                senrow = np.hstack((senrow,padding_h))\n",
    "                padding_v = np.zeros([(i-nsen),senrow.shape[1]],dtype=int)\n",
    "                senrow = np.vstack((senrow,padding_v))\n",
    "            else:\n",
    "                padding =np.zeros([nsen,add],dtype=int)\n",
    "                senrow = np.hstack((senrow,padding))\n",
    "            senrow = np.vstack((senrow,sen))\n",
    "        if i==0:\n",
    "            senrow = np.array(sen).reshape(1,len(sen))\n",
    "    # if there isn't then just update the old matrix\n",
    "    elif(nsen>0):\n",
    "        senrow = np.vstack((senrow,sen))\n",
    "        \n",
    "    sentiment_list.append(sentiment)"
   ]
  },
  {
   "cell_type": "code",
   "execution_count": 302,
   "metadata": {},
   "outputs": [
    {
     "data": {
      "text/plain": [
       "837"
      ]
     },
     "execution_count": 302,
     "metadata": {},
     "output_type": "execute_result"
    }
   ],
   "source": [
    "len(sentiment_list)"
   ]
  },
  {
   "cell_type": "code",
   "execution_count": 303,
   "metadata": {},
   "outputs": [
    {
     "name": "stdout",
     "output_type": "stream",
     "text": [
      "837\n"
     ]
    }
   ],
   "source": [
    "print(senrow.shape[0])"
   ]
  },
  {
   "cell_type": "markdown",
   "metadata": {},
   "source": [
    "constructing the data frame that contain bag of words and the sentiments that have been calculated before"
   ]
  },
  {
   "cell_type": "code",
   "execution_count": 304,
   "metadata": {},
   "outputs": [],
   "source": [
    "sencol.append('sentiment')\n",
    "sentiment_array = np.array(sentiment_list).reshape(senrow.shape[0],1)\n",
    "sentiment_data = np.hstack((senrow,sentiment_array))\n",
    "df_sen = pd.DataFrame(sentiment_data,columns = sencol)"
   ]
  },
  {
   "cell_type": "code",
   "execution_count": 305,
   "metadata": {},
   "outputs": [
    {
     "data": {
      "text/html": [
       "<div>\n",
       "<style scoped>\n",
       "    .dataframe tbody tr th:only-of-type {\n",
       "        vertical-align: middle;\n",
       "    }\n",
       "\n",
       "    .dataframe tbody tr th {\n",
       "        vertical-align: top;\n",
       "    }\n",
       "\n",
       "    .dataframe thead th {\n",
       "        text-align: right;\n",
       "    }\n",
       "</style>\n",
       "<table border=\"1\" class=\"dataframe\">\n",
       "  <thead>\n",
       "    <tr style=\"text-align: right;\">\n",
       "      <th></th>\n",
       "      <th>maunya</th>\n",
       "      <th>mizone</th>\n",
       "      <th>ayo</th>\n",
       "      <th>kangen</th>\n",
       "      <th>berasa</th>\n",
       "      <th>umur</th>\n",
       "      <th>minum</th>\n",
       "      <th>gas</th>\n",
       "      <th>isi</th>\n",
       "      <th>rumah</th>\n",
       "      <th>...</th>\n",
       "      <th>sukses</th>\n",
       "      <th>pantang</th>\n",
       "      <th>menyerah</th>\n",
       "      <th>belok</th>\n",
       "      <th>kiri</th>\n",
       "      <th>dicoba</th>\n",
       "      <th>derita</th>\n",
       "      <th>kesulitan</th>\n",
       "      <th>bermanfaat</th>\n",
       "      <th>sentiment</th>\n",
       "    </tr>\n",
       "  </thead>\n",
       "  <tbody>\n",
       "    <tr>\n",
       "      <th>0</th>\n",
       "      <td>1</td>\n",
       "      <td>1</td>\n",
       "      <td>1</td>\n",
       "      <td>0</td>\n",
       "      <td>0</td>\n",
       "      <td>0</td>\n",
       "      <td>0</td>\n",
       "      <td>0</td>\n",
       "      <td>0</td>\n",
       "      <td>0</td>\n",
       "      <td>...</td>\n",
       "      <td>0</td>\n",
       "      <td>0</td>\n",
       "      <td>0</td>\n",
       "      <td>0</td>\n",
       "      <td>0</td>\n",
       "      <td>0</td>\n",
       "      <td>0</td>\n",
       "      <td>0</td>\n",
       "      <td>0</td>\n",
       "      <td>3</td>\n",
       "    </tr>\n",
       "    <tr>\n",
       "      <th>1</th>\n",
       "      <td>0</td>\n",
       "      <td>1</td>\n",
       "      <td>0</td>\n",
       "      <td>1</td>\n",
       "      <td>0</td>\n",
       "      <td>0</td>\n",
       "      <td>0</td>\n",
       "      <td>0</td>\n",
       "      <td>0</td>\n",
       "      <td>0</td>\n",
       "      <td>...</td>\n",
       "      <td>0</td>\n",
       "      <td>0</td>\n",
       "      <td>0</td>\n",
       "      <td>0</td>\n",
       "      <td>0</td>\n",
       "      <td>0</td>\n",
       "      <td>0</td>\n",
       "      <td>0</td>\n",
       "      <td>0</td>\n",
       "      <td>3</td>\n",
       "    </tr>\n",
       "    <tr>\n",
       "      <th>2</th>\n",
       "      <td>0</td>\n",
       "      <td>1</td>\n",
       "      <td>0</td>\n",
       "      <td>0</td>\n",
       "      <td>0</td>\n",
       "      <td>0</td>\n",
       "      <td>0</td>\n",
       "      <td>0</td>\n",
       "      <td>0</td>\n",
       "      <td>0</td>\n",
       "      <td>...</td>\n",
       "      <td>0</td>\n",
       "      <td>0</td>\n",
       "      <td>0</td>\n",
       "      <td>0</td>\n",
       "      <td>0</td>\n",
       "      <td>0</td>\n",
       "      <td>0</td>\n",
       "      <td>0</td>\n",
       "      <td>0</td>\n",
       "      <td>0</td>\n",
       "    </tr>\n",
       "    <tr>\n",
       "      <th>3</th>\n",
       "      <td>0</td>\n",
       "      <td>1</td>\n",
       "      <td>0</td>\n",
       "      <td>0</td>\n",
       "      <td>1</td>\n",
       "      <td>0</td>\n",
       "      <td>0</td>\n",
       "      <td>0</td>\n",
       "      <td>0</td>\n",
       "      <td>0</td>\n",
       "      <td>...</td>\n",
       "      <td>0</td>\n",
       "      <td>0</td>\n",
       "      <td>0</td>\n",
       "      <td>0</td>\n",
       "      <td>0</td>\n",
       "      <td>0</td>\n",
       "      <td>0</td>\n",
       "      <td>0</td>\n",
       "      <td>0</td>\n",
       "      <td>-2</td>\n",
       "    </tr>\n",
       "    <tr>\n",
       "      <th>4</th>\n",
       "      <td>0</td>\n",
       "      <td>2</td>\n",
       "      <td>0</td>\n",
       "      <td>0</td>\n",
       "      <td>0</td>\n",
       "      <td>1</td>\n",
       "      <td>3</td>\n",
       "      <td>2</td>\n",
       "      <td>1</td>\n",
       "      <td>1</td>\n",
       "      <td>...</td>\n",
       "      <td>0</td>\n",
       "      <td>0</td>\n",
       "      <td>0</td>\n",
       "      <td>0</td>\n",
       "      <td>0</td>\n",
       "      <td>0</td>\n",
       "      <td>0</td>\n",
       "      <td>0</td>\n",
       "      <td>0</td>\n",
       "      <td>-11</td>\n",
       "    </tr>\n",
       "    <tr>\n",
       "      <th>...</th>\n",
       "      <td>...</td>\n",
       "      <td>...</td>\n",
       "      <td>...</td>\n",
       "      <td>...</td>\n",
       "      <td>...</td>\n",
       "      <td>...</td>\n",
       "      <td>...</td>\n",
       "      <td>...</td>\n",
       "      <td>...</td>\n",
       "      <td>...</td>\n",
       "      <td>...</td>\n",
       "      <td>...</td>\n",
       "      <td>...</td>\n",
       "      <td>...</td>\n",
       "      <td>...</td>\n",
       "      <td>...</td>\n",
       "      <td>...</td>\n",
       "      <td>...</td>\n",
       "      <td>...</td>\n",
       "      <td>...</td>\n",
       "      <td>...</td>\n",
       "    </tr>\n",
       "    <tr>\n",
       "      <th>832</th>\n",
       "      <td>0</td>\n",
       "      <td>0</td>\n",
       "      <td>0</td>\n",
       "      <td>0</td>\n",
       "      <td>0</td>\n",
       "      <td>0</td>\n",
       "      <td>2</td>\n",
       "      <td>0</td>\n",
       "      <td>0</td>\n",
       "      <td>0</td>\n",
       "      <td>...</td>\n",
       "      <td>0</td>\n",
       "      <td>0</td>\n",
       "      <td>0</td>\n",
       "      <td>0</td>\n",
       "      <td>0</td>\n",
       "      <td>0</td>\n",
       "      <td>1</td>\n",
       "      <td>1</td>\n",
       "      <td>1</td>\n",
       "      <td>8</td>\n",
       "    </tr>\n",
       "    <tr>\n",
       "      <th>833</th>\n",
       "      <td>0</td>\n",
       "      <td>0</td>\n",
       "      <td>0</td>\n",
       "      <td>0</td>\n",
       "      <td>0</td>\n",
       "      <td>0</td>\n",
       "      <td>0</td>\n",
       "      <td>0</td>\n",
       "      <td>0</td>\n",
       "      <td>0</td>\n",
       "      <td>...</td>\n",
       "      <td>0</td>\n",
       "      <td>0</td>\n",
       "      <td>0</td>\n",
       "      <td>0</td>\n",
       "      <td>0</td>\n",
       "      <td>0</td>\n",
       "      <td>0</td>\n",
       "      <td>0</td>\n",
       "      <td>0</td>\n",
       "      <td>0</td>\n",
       "    </tr>\n",
       "    <tr>\n",
       "      <th>834</th>\n",
       "      <td>0</td>\n",
       "      <td>0</td>\n",
       "      <td>0</td>\n",
       "      <td>0</td>\n",
       "      <td>0</td>\n",
       "      <td>0</td>\n",
       "      <td>0</td>\n",
       "      <td>0</td>\n",
       "      <td>0</td>\n",
       "      <td>0</td>\n",
       "      <td>...</td>\n",
       "      <td>0</td>\n",
       "      <td>0</td>\n",
       "      <td>0</td>\n",
       "      <td>0</td>\n",
       "      <td>0</td>\n",
       "      <td>0</td>\n",
       "      <td>0</td>\n",
       "      <td>0</td>\n",
       "      <td>0</td>\n",
       "      <td>7</td>\n",
       "    </tr>\n",
       "    <tr>\n",
       "      <th>835</th>\n",
       "      <td>0</td>\n",
       "      <td>0</td>\n",
       "      <td>0</td>\n",
       "      <td>0</td>\n",
       "      <td>0</td>\n",
       "      <td>0</td>\n",
       "      <td>0</td>\n",
       "      <td>0</td>\n",
       "      <td>0</td>\n",
       "      <td>0</td>\n",
       "      <td>...</td>\n",
       "      <td>0</td>\n",
       "      <td>0</td>\n",
       "      <td>0</td>\n",
       "      <td>0</td>\n",
       "      <td>0</td>\n",
       "      <td>0</td>\n",
       "      <td>0</td>\n",
       "      <td>0</td>\n",
       "      <td>0</td>\n",
       "      <td>3</td>\n",
       "    </tr>\n",
       "    <tr>\n",
       "      <th>836</th>\n",
       "      <td>0</td>\n",
       "      <td>0</td>\n",
       "      <td>0</td>\n",
       "      <td>0</td>\n",
       "      <td>0</td>\n",
       "      <td>0</td>\n",
       "      <td>0</td>\n",
       "      <td>0</td>\n",
       "      <td>0</td>\n",
       "      <td>0</td>\n",
       "      <td>...</td>\n",
       "      <td>0</td>\n",
       "      <td>0</td>\n",
       "      <td>0</td>\n",
       "      <td>0</td>\n",
       "      <td>0</td>\n",
       "      <td>0</td>\n",
       "      <td>0</td>\n",
       "      <td>0</td>\n",
       "      <td>0</td>\n",
       "      <td>6</td>\n",
       "    </tr>\n",
       "  </tbody>\n",
       "</table>\n",
       "<p>837 rows × 757 columns</p>\n",
       "</div>"
      ],
      "text/plain": [
       "     maunya  mizone  ayo  kangen  berasa  umur  minum  gas  isi  rumah  ...  \\\n",
       "0         1       1    1       0       0     0      0    0    0      0  ...   \n",
       "1         0       1    0       1       0     0      0    0    0      0  ...   \n",
       "2         0       1    0       0       0     0      0    0    0      0  ...   \n",
       "3         0       1    0       0       1     0      0    0    0      0  ...   \n",
       "4         0       2    0       0       0     1      3    2    1      1  ...   \n",
       "..      ...     ...  ...     ...     ...   ...    ...  ...  ...    ...  ...   \n",
       "832       0       0    0       0       0     0      2    0    0      0  ...   \n",
       "833       0       0    0       0       0     0      0    0    0      0  ...   \n",
       "834       0       0    0       0       0     0      0    0    0      0  ...   \n",
       "835       0       0    0       0       0     0      0    0    0      0  ...   \n",
       "836       0       0    0       0       0     0      0    0    0      0  ...   \n",
       "\n",
       "     sukses  pantang  menyerah  belok  kiri  dicoba  derita  kesulitan  \\\n",
       "0         0        0         0      0     0       0       0          0   \n",
       "1         0        0         0      0     0       0       0          0   \n",
       "2         0        0         0      0     0       0       0          0   \n",
       "3         0        0         0      0     0       0       0          0   \n",
       "4         0        0         0      0     0       0       0          0   \n",
       "..      ...      ...       ...    ...   ...     ...     ...        ...   \n",
       "832       0        0         0      0     0       0       1          1   \n",
       "833       0        0         0      0     0       0       0          0   \n",
       "834       0        0         0      0     0       0       0          0   \n",
       "835       0        0         0      0     0       0       0          0   \n",
       "836       0        0         0      0     0       0       0          0   \n",
       "\n",
       "     bermanfaat  sentiment  \n",
       "0             0          3  \n",
       "1             0          3  \n",
       "2             0          0  \n",
       "3             0         -2  \n",
       "4             0        -11  \n",
       "..          ...        ...  \n",
       "832           1          8  \n",
       "833           0          0  \n",
       "834           0          7  \n",
       "835           0          3  \n",
       "836           0          6  \n",
       "\n",
       "[837 rows x 757 columns]"
      ]
     },
     "execution_count": 305,
     "metadata": {},
     "output_type": "execute_result"
    }
   ],
   "source": [
    "df_sen"
   ]
  },
  {
   "cell_type": "code",
   "execution_count": 306,
   "metadata": {},
   "outputs": [
    {
     "data": {
      "text/html": [
       "<div>\n",
       "<style scoped>\n",
       "    .dataframe tbody tr th:only-of-type {\n",
       "        vertical-align: middle;\n",
       "    }\n",
       "\n",
       "    .dataframe tbody tr th {\n",
       "        vertical-align: top;\n",
       "    }\n",
       "\n",
       "    .dataframe thead th {\n",
       "        text-align: right;\n",
       "    }\n",
       "</style>\n",
       "<table border=\"1\" class=\"dataframe\">\n",
       "  <thead>\n",
       "    <tr style=\"text-align: right;\">\n",
       "      <th></th>\n",
       "      <th>maunya</th>\n",
       "      <th>mizone</th>\n",
       "      <th>ayo</th>\n",
       "      <th>kangen</th>\n",
       "      <th>berasa</th>\n",
       "      <th>umur</th>\n",
       "      <th>minum</th>\n",
       "      <th>gas</th>\n",
       "      <th>isi</th>\n",
       "      <th>rumah</th>\n",
       "      <th>...</th>\n",
       "      <th>sukses</th>\n",
       "      <th>pantang</th>\n",
       "      <th>menyerah</th>\n",
       "      <th>belok</th>\n",
       "      <th>kiri</th>\n",
       "      <th>dicoba</th>\n",
       "      <th>derita</th>\n",
       "      <th>kesulitan</th>\n",
       "      <th>bermanfaat</th>\n",
       "      <th>sentiment</th>\n",
       "    </tr>\n",
       "  </thead>\n",
       "  <tbody>\n",
       "    <tr>\n",
       "      <th>0</th>\n",
       "      <td>1</td>\n",
       "      <td>1</td>\n",
       "      <td>1</td>\n",
       "      <td>0</td>\n",
       "      <td>0</td>\n",
       "      <td>0</td>\n",
       "      <td>0</td>\n",
       "      <td>0</td>\n",
       "      <td>0</td>\n",
       "      <td>0</td>\n",
       "      <td>...</td>\n",
       "      <td>0</td>\n",
       "      <td>0</td>\n",
       "      <td>0</td>\n",
       "      <td>0</td>\n",
       "      <td>0</td>\n",
       "      <td>0</td>\n",
       "      <td>0</td>\n",
       "      <td>0</td>\n",
       "      <td>0</td>\n",
       "      <td>3</td>\n",
       "    </tr>\n",
       "    <tr>\n",
       "      <th>1</th>\n",
       "      <td>0</td>\n",
       "      <td>1</td>\n",
       "      <td>0</td>\n",
       "      <td>1</td>\n",
       "      <td>0</td>\n",
       "      <td>0</td>\n",
       "      <td>0</td>\n",
       "      <td>0</td>\n",
       "      <td>0</td>\n",
       "      <td>0</td>\n",
       "      <td>...</td>\n",
       "      <td>0</td>\n",
       "      <td>0</td>\n",
       "      <td>0</td>\n",
       "      <td>0</td>\n",
       "      <td>0</td>\n",
       "      <td>0</td>\n",
       "      <td>0</td>\n",
       "      <td>0</td>\n",
       "      <td>0</td>\n",
       "      <td>3</td>\n",
       "    </tr>\n",
       "    <tr>\n",
       "      <th>2</th>\n",
       "      <td>0</td>\n",
       "      <td>1</td>\n",
       "      <td>0</td>\n",
       "      <td>0</td>\n",
       "      <td>0</td>\n",
       "      <td>0</td>\n",
       "      <td>0</td>\n",
       "      <td>0</td>\n",
       "      <td>0</td>\n",
       "      <td>0</td>\n",
       "      <td>...</td>\n",
       "      <td>0</td>\n",
       "      <td>0</td>\n",
       "      <td>0</td>\n",
       "      <td>0</td>\n",
       "      <td>0</td>\n",
       "      <td>0</td>\n",
       "      <td>0</td>\n",
       "      <td>0</td>\n",
       "      <td>0</td>\n",
       "      <td>0</td>\n",
       "    </tr>\n",
       "    <tr>\n",
       "      <th>3</th>\n",
       "      <td>0</td>\n",
       "      <td>1</td>\n",
       "      <td>0</td>\n",
       "      <td>0</td>\n",
       "      <td>1</td>\n",
       "      <td>0</td>\n",
       "      <td>0</td>\n",
       "      <td>0</td>\n",
       "      <td>0</td>\n",
       "      <td>0</td>\n",
       "      <td>...</td>\n",
       "      <td>0</td>\n",
       "      <td>0</td>\n",
       "      <td>0</td>\n",
       "      <td>0</td>\n",
       "      <td>0</td>\n",
       "      <td>0</td>\n",
       "      <td>0</td>\n",
       "      <td>0</td>\n",
       "      <td>0</td>\n",
       "      <td>-2</td>\n",
       "    </tr>\n",
       "    <tr>\n",
       "      <th>4</th>\n",
       "      <td>0</td>\n",
       "      <td>2</td>\n",
       "      <td>0</td>\n",
       "      <td>0</td>\n",
       "      <td>0</td>\n",
       "      <td>1</td>\n",
       "      <td>3</td>\n",
       "      <td>2</td>\n",
       "      <td>1</td>\n",
       "      <td>1</td>\n",
       "      <td>...</td>\n",
       "      <td>0</td>\n",
       "      <td>0</td>\n",
       "      <td>0</td>\n",
       "      <td>0</td>\n",
       "      <td>0</td>\n",
       "      <td>0</td>\n",
       "      <td>0</td>\n",
       "      <td>0</td>\n",
       "      <td>0</td>\n",
       "      <td>-11</td>\n",
       "    </tr>\n",
       "    <tr>\n",
       "      <th>5</th>\n",
       "      <td>0</td>\n",
       "      <td>1</td>\n",
       "      <td>0</td>\n",
       "      <td>0</td>\n",
       "      <td>0</td>\n",
       "      <td>0</td>\n",
       "      <td>0</td>\n",
       "      <td>0</td>\n",
       "      <td>0</td>\n",
       "      <td>0</td>\n",
       "      <td>...</td>\n",
       "      <td>0</td>\n",
       "      <td>0</td>\n",
       "      <td>0</td>\n",
       "      <td>0</td>\n",
       "      <td>0</td>\n",
       "      <td>0</td>\n",
       "      <td>0</td>\n",
       "      <td>0</td>\n",
       "      <td>0</td>\n",
       "      <td>19</td>\n",
       "    </tr>\n",
       "    <tr>\n",
       "      <th>6</th>\n",
       "      <td>0</td>\n",
       "      <td>1</td>\n",
       "      <td>0</td>\n",
       "      <td>0</td>\n",
       "      <td>0</td>\n",
       "      <td>0</td>\n",
       "      <td>0</td>\n",
       "      <td>0</td>\n",
       "      <td>0</td>\n",
       "      <td>0</td>\n",
       "      <td>...</td>\n",
       "      <td>0</td>\n",
       "      <td>0</td>\n",
       "      <td>0</td>\n",
       "      <td>0</td>\n",
       "      <td>0</td>\n",
       "      <td>0</td>\n",
       "      <td>0</td>\n",
       "      <td>0</td>\n",
       "      <td>0</td>\n",
       "      <td>-3</td>\n",
       "    </tr>\n",
       "    <tr>\n",
       "      <th>7</th>\n",
       "      <td>0</td>\n",
       "      <td>1</td>\n",
       "      <td>0</td>\n",
       "      <td>0</td>\n",
       "      <td>0</td>\n",
       "      <td>0</td>\n",
       "      <td>0</td>\n",
       "      <td>0</td>\n",
       "      <td>0</td>\n",
       "      <td>0</td>\n",
       "      <td>...</td>\n",
       "      <td>0</td>\n",
       "      <td>0</td>\n",
       "      <td>0</td>\n",
       "      <td>0</td>\n",
       "      <td>0</td>\n",
       "      <td>0</td>\n",
       "      <td>0</td>\n",
       "      <td>0</td>\n",
       "      <td>0</td>\n",
       "      <td>0</td>\n",
       "    </tr>\n",
       "    <tr>\n",
       "      <th>8</th>\n",
       "      <td>0</td>\n",
       "      <td>1</td>\n",
       "      <td>0</td>\n",
       "      <td>0</td>\n",
       "      <td>0</td>\n",
       "      <td>0</td>\n",
       "      <td>2</td>\n",
       "      <td>0</td>\n",
       "      <td>0</td>\n",
       "      <td>0</td>\n",
       "      <td>...</td>\n",
       "      <td>0</td>\n",
       "      <td>0</td>\n",
       "      <td>0</td>\n",
       "      <td>0</td>\n",
       "      <td>0</td>\n",
       "      <td>0</td>\n",
       "      <td>0</td>\n",
       "      <td>0</td>\n",
       "      <td>0</td>\n",
       "      <td>-7</td>\n",
       "    </tr>\n",
       "    <tr>\n",
       "      <th>9</th>\n",
       "      <td>0</td>\n",
       "      <td>0</td>\n",
       "      <td>0</td>\n",
       "      <td>0</td>\n",
       "      <td>0</td>\n",
       "      <td>0</td>\n",
       "      <td>0</td>\n",
       "      <td>0</td>\n",
       "      <td>0</td>\n",
       "      <td>0</td>\n",
       "      <td>...</td>\n",
       "      <td>0</td>\n",
       "      <td>0</td>\n",
       "      <td>0</td>\n",
       "      <td>0</td>\n",
       "      <td>0</td>\n",
       "      <td>0</td>\n",
       "      <td>0</td>\n",
       "      <td>0</td>\n",
       "      <td>0</td>\n",
       "      <td>-2</td>\n",
       "    </tr>\n",
       "  </tbody>\n",
       "</table>\n",
       "<p>10 rows × 757 columns</p>\n",
       "</div>"
      ],
      "text/plain": [
       "   maunya  mizone  ayo  kangen  berasa  umur  minum  gas  isi  rumah  ...  \\\n",
       "0       1       1    1       0       0     0      0    0    0      0  ...   \n",
       "1       0       1    0       1       0     0      0    0    0      0  ...   \n",
       "2       0       1    0       0       0     0      0    0    0      0  ...   \n",
       "3       0       1    0       0       1     0      0    0    0      0  ...   \n",
       "4       0       2    0       0       0     1      3    2    1      1  ...   \n",
       "5       0       1    0       0       0     0      0    0    0      0  ...   \n",
       "6       0       1    0       0       0     0      0    0    0      0  ...   \n",
       "7       0       1    0       0       0     0      0    0    0      0  ...   \n",
       "8       0       1    0       0       0     0      2    0    0      0  ...   \n",
       "9       0       0    0       0       0     0      0    0    0      0  ...   \n",
       "\n",
       "   sukses  pantang  menyerah  belok  kiri  dicoba  derita  kesulitan  \\\n",
       "0       0        0         0      0     0       0       0          0   \n",
       "1       0        0         0      0     0       0       0          0   \n",
       "2       0        0         0      0     0       0       0          0   \n",
       "3       0        0         0      0     0       0       0          0   \n",
       "4       0        0         0      0     0       0       0          0   \n",
       "5       0        0         0      0     0       0       0          0   \n",
       "6       0        0         0      0     0       0       0          0   \n",
       "7       0        0         0      0     0       0       0          0   \n",
       "8       0        0         0      0     0       0       0          0   \n",
       "9       0        0         0      0     0       0       0          0   \n",
       "\n",
       "   bermanfaat  sentiment  \n",
       "0           0          3  \n",
       "1           0          3  \n",
       "2           0          0  \n",
       "3           0         -2  \n",
       "4           0        -11  \n",
       "5           0         19  \n",
       "6           0         -3  \n",
       "7           0          0  \n",
       "8           0         -7  \n",
       "9           0         -2  \n",
       "\n",
       "[10 rows x 757 columns]"
      ]
     },
     "execution_count": 306,
     "metadata": {},
     "output_type": "execute_result"
    }
   ],
   "source": [
    "df_sen.head(10)"
   ]
  },
  {
   "cell_type": "markdown",
   "metadata": {},
   "source": [
    "\n",
    "lets see if the sentiment is correct by looking at the original text"
   ]
  },
  {
   "cell_type": "code",
   "execution_count": 307,
   "metadata": {},
   "outputs": [],
   "source": [
    "cek_df = pd.DataFrame([])\n",
    "cek_df['text'] = df['original_text'].copy()\n",
    "cek_df['sentiment']  = df_sen['sentiment'].copy()"
   ]
  },
  {
   "cell_type": "code",
   "execution_count": 308,
   "metadata": {},
   "outputs": [
    {
     "data": {
      "text/html": [
       "<div>\n",
       "<style scoped>\n",
       "    .dataframe tbody tr th:only-of-type {\n",
       "        vertical-align: middle;\n",
       "    }\n",
       "\n",
       "    .dataframe tbody tr th {\n",
       "        vertical-align: top;\n",
       "    }\n",
       "\n",
       "    .dataframe thead th {\n",
       "        text-align: right;\n",
       "    }\n",
       "</style>\n",
       "<table border=\"1\" class=\"dataframe\">\n",
       "  <thead>\n",
       "    <tr style=\"text-align: right;\">\n",
       "      <th></th>\n",
       "      <th>text</th>\n",
       "      <th>sentiment</th>\n",
       "    </tr>\n",
       "  </thead>\n",
       "  <tbody>\n",
       "    <tr>\n",
       "      <th>0</th>\n",
       "      <td>@chridst tidak suuzone karena gue maunya mizone, ayo beri satu</td>\n",
       "      <td>3</td>\n",
       "    </tr>\n",
       "    <tr>\n",
       "      <th>1</th>\n",
       "      <td>@bdngfess Nu kieu yeuh kangen berat sabelah teh\\r\\nInget nder iklan mizone</td>\n",
       "      <td>3</td>\n",
       "    </tr>\n",
       "    <tr>\n",
       "      <th>2</th>\n",
       "      <td>@menggelinjanq @andhikahehe @KarlinaFebri19 yaudah, deddy mizone</td>\n",
       "      <td>0</td>\n",
       "    </tr>\n",
       "    <tr>\n",
       "      <th>3</th>\n",
       "      <td>@tjaennie @minjoooz @chaerylei @ljungwu pake z berasa mizone</td>\n",
       "      <td>-2</td>\n",
       "    </tr>\n",
       "    <tr>\n",
       "      <th>4</th>\n",
       "      <td>@subtanyarl waktu umur 2 tahunan GUE MINUM MINYAK GAS HAHAHAA, terus seisi rumah pada panik. ken...</td>\n",
       "      <td>-11</td>\n",
       "    </tr>\n",
       "    <tr>\n",
       "      <th>...</th>\n",
       "      <td>...</td>\n",
       "      <td>...</td>\n",
       "    </tr>\n",
       "    <tr>\n",
       "      <th>832</th>\n",
       "      <td>Ada diantara penderita covid yang kesulitan makan karena selera seperti hilang dan purutpun mual...</td>\n",
       "      <td>8</td>\n",
       "    </tr>\n",
       "    <tr>\n",
       "      <th>833</th>\n",
       "      <td>@pipigembulkei Knp ada royco heyyy 😅 jangan bilang mau di seduh sama Hydro coco 🤣🤣</td>\n",
       "      <td>0</td>\n",
       "    </tr>\n",
       "    <tr>\n",
       "      <th>834</th>\n",
       "      <td>@mauchatimedong Ngefek sii. Kalau mau tambah seger ntar pas bangun tidur, susu beruangnya bisa t...</td>\n",
       "      <td>7</td>\n",
       "    </tr>\n",
       "    <tr>\n",
       "      <th>835</th>\n",
       "      <td>@kegblgnunfaedh Sabtu jam 5 pagi kala itu beli hydro coco..\\r\\nMasa lalu 😂🤣</td>\n",
       "      <td>3</td>\n",
       "    </tr>\n",
       "    <tr>\n",
       "      <th>836</th>\n",
       "      <td>hydro coco knp enak bgtttttt sik</td>\n",
       "      <td>6</td>\n",
       "    </tr>\n",
       "  </tbody>\n",
       "</table>\n",
       "<p>837 rows × 2 columns</p>\n",
       "</div>"
      ],
      "text/plain": [
       "                                                                                                    text  \\\n",
       "0                                         @chridst tidak suuzone karena gue maunya mizone, ayo beri satu   \n",
       "1                             @bdngfess Nu kieu yeuh kangen berat sabelah teh\\r\\nInget nder iklan mizone   \n",
       "2                                       @menggelinjanq @andhikahehe @KarlinaFebri19 yaudah, deddy mizone   \n",
       "3                                           @tjaennie @minjoooz @chaerylei @ljungwu pake z berasa mizone   \n",
       "4    @subtanyarl waktu umur 2 tahunan GUE MINUM MINYAK GAS HAHAHAA, terus seisi rumah pada panik. ken...   \n",
       "..                                                                                                   ...   \n",
       "832  Ada diantara penderita covid yang kesulitan makan karena selera seperti hilang dan purutpun mual...   \n",
       "833                   @pipigembulkei Knp ada royco heyyy 😅 jangan bilang mau di seduh sama Hydro coco 🤣🤣   \n",
       "834  @mauchatimedong Ngefek sii. Kalau mau tambah seger ntar pas bangun tidur, susu beruangnya bisa t...   \n",
       "835                          @kegblgnunfaedh Sabtu jam 5 pagi kala itu beli hydro coco..\\r\\nMasa lalu 😂🤣   \n",
       "836                                                                     hydro coco knp enak bgtttttt sik   \n",
       "\n",
       "     sentiment  \n",
       "0            3  \n",
       "1            3  \n",
       "2            0  \n",
       "3           -2  \n",
       "4          -11  \n",
       "..         ...  \n",
       "832          8  \n",
       "833          0  \n",
       "834          7  \n",
       "835          3  \n",
       "836          6  \n",
       "\n",
       "[837 rows x 2 columns]"
      ]
     },
     "execution_count": 308,
     "metadata": {},
     "output_type": "execute_result"
    }
   ],
   "source": [
    "cek_df"
   ]
  },
  {
   "cell_type": "markdown",
   "metadata": {},
   "source": [
    "## EDA"
   ]
  },
  {
   "cell_type": "code",
   "execution_count": 309,
   "metadata": {},
   "outputs": [
    {
     "data": {
      "text/plain": [
       "Text(0.5, 0, 'sentiment')"
      ]
     },
     "execution_count": 309,
     "metadata": {},
     "output_type": "execute_result"
    },
    {
     "data": {
      "image/png": "[encoded data removed]",
      "text/plain": [
       "<Figure size 432x288 with 1 Axes>"
      ]
     },
     "metadata": {},
     "output_type": "display_data"
    }
   ],
   "source": [
    "sns.set(style=\"white\", palette=\"muted\", color_codes=True)\n",
    "sns.kdeplot(df_sen['sentiment'],color='m',shade=True)\n",
    "plt.title('Sentiment Distribution')\n",
    "plt.xlabel('sentiment')"
   ]
  },
  {
   "cell_type": "code",
   "execution_count": 310,
   "metadata": {},
   "outputs": [
    {
     "data": {
      "text/plain": [
       "<matplotlib.axes._subplots.AxesSubplot at 0x2b3dd26b848>"
      ]
     },
     "execution_count": 310,
     "metadata": {},
     "output_type": "execute_result"
    },
    {
     "data": {
      "image/png": "[encoded data removed]",
      "text/plain": [
       "<Figure size 432x288 with 1 Axes>"
      ]
     },
     "metadata": {},
     "output_type": "display_data"
    }
   ],
   "source": [
    "sns.set(style=\"whitegrid\") \n",
    "sns.boxplot(x=df_sen['sentiment'])"
   ]
  },
  {
   "cell_type": "code",
   "execution_count": 311,
   "metadata": {},
   "outputs": [
    {
     "data": {
      "text/html": [
       "<div>\n",
       "<style scoped>\n",
       "    .dataframe tbody tr th:only-of-type {\n",
       "        vertical-align: middle;\n",
       "    }\n",
       "\n",
       "    .dataframe tbody tr th {\n",
       "        vertical-align: top;\n",
       "    }\n",
       "\n",
       "    .dataframe thead th {\n",
       "        text-align: right;\n",
       "    }\n",
       "</style>\n",
       "<table border=\"1\" class=\"dataframe\">\n",
       "  <thead>\n",
       "    <tr style=\"text-align: right;\">\n",
       "      <th></th>\n",
       "      <th>maunya</th>\n",
       "      <th>mizone</th>\n",
       "      <th>ayo</th>\n",
       "      <th>kangen</th>\n",
       "      <th>berasa</th>\n",
       "      <th>umur</th>\n",
       "      <th>minum</th>\n",
       "      <th>gas</th>\n",
       "      <th>isi</th>\n",
       "      <th>rumah</th>\n",
       "      <th>...</th>\n",
       "      <th>sukses</th>\n",
       "      <th>pantang</th>\n",
       "      <th>menyerah</th>\n",
       "      <th>belok</th>\n",
       "      <th>kiri</th>\n",
       "      <th>dicoba</th>\n",
       "      <th>derita</th>\n",
       "      <th>kesulitan</th>\n",
       "      <th>bermanfaat</th>\n",
       "      <th>sentiment</th>\n",
       "    </tr>\n",
       "  </thead>\n",
       "  <tbody>\n",
       "    <tr>\n",
       "      <th>count</th>\n",
       "      <td>837.000000</td>\n",
       "      <td>837.000000</td>\n",
       "      <td>837.000000</td>\n",
       "      <td>837.000000</td>\n",
       "      <td>837.000000</td>\n",
       "      <td>837.000000</td>\n",
       "      <td>837.000000</td>\n",
       "      <td>837.000000</td>\n",
       "      <td>837.000000</td>\n",
       "      <td>837.000000</td>\n",
       "      <td>...</td>\n",
       "      <td>837.000000</td>\n",
       "      <td>837.000000</td>\n",
       "      <td>837.000000</td>\n",
       "      <td>837.000000</td>\n",
       "      <td>837.000000</td>\n",
       "      <td>837.000000</td>\n",
       "      <td>837.000000</td>\n",
       "      <td>837.000000</td>\n",
       "      <td>837.000000</td>\n",
       "      <td>837.000000</td>\n",
       "    </tr>\n",
       "    <tr>\n",
       "      <th>mean</th>\n",
       "      <td>0.004779</td>\n",
       "      <td>0.111111</td>\n",
       "      <td>0.002389</td>\n",
       "      <td>0.001195</td>\n",
       "      <td>0.010753</td>\n",
       "      <td>0.002389</td>\n",
       "      <td>0.292712</td>\n",
       "      <td>0.003584</td>\n",
       "      <td>0.011947</td>\n",
       "      <td>0.032258</td>\n",
       "      <td>...</td>\n",
       "      <td>0.001195</td>\n",
       "      <td>0.001195</td>\n",
       "      <td>0.001195</td>\n",
       "      <td>0.001195</td>\n",
       "      <td>0.001195</td>\n",
       "      <td>0.002389</td>\n",
       "      <td>0.001195</td>\n",
       "      <td>0.001195</td>\n",
       "      <td>0.001195</td>\n",
       "      <td>-1.868578</td>\n",
       "    </tr>\n",
       "    <tr>\n",
       "      <th>std</th>\n",
       "      <td>0.069006</td>\n",
       "      <td>0.332934</td>\n",
       "      <td>0.048853</td>\n",
       "      <td>0.034565</td>\n",
       "      <td>0.103198</td>\n",
       "      <td>0.048853</td>\n",
       "      <td>0.642667</td>\n",
       "      <td>0.077253</td>\n",
       "      <td>0.108714</td>\n",
       "      <td>0.176790</td>\n",
       "      <td>...</td>\n",
       "      <td>0.034565</td>\n",
       "      <td>0.034565</td>\n",
       "      <td>0.034565</td>\n",
       "      <td>0.034565</td>\n",
       "      <td>0.034565</td>\n",
       "      <td>0.069130</td>\n",
       "      <td>0.034565</td>\n",
       "      <td>0.034565</td>\n",
       "      <td>0.034565</td>\n",
       "      <td>7.431308</td>\n",
       "    </tr>\n",
       "    <tr>\n",
       "      <th>min</th>\n",
       "      <td>0.000000</td>\n",
       "      <td>0.000000</td>\n",
       "      <td>0.000000</td>\n",
       "      <td>0.000000</td>\n",
       "      <td>0.000000</td>\n",
       "      <td>0.000000</td>\n",
       "      <td>0.000000</td>\n",
       "      <td>0.000000</td>\n",
       "      <td>0.000000</td>\n",
       "      <td>0.000000</td>\n",
       "      <td>...</td>\n",
       "      <td>0.000000</td>\n",
       "      <td>0.000000</td>\n",
       "      <td>0.000000</td>\n",
       "      <td>0.000000</td>\n",
       "      <td>0.000000</td>\n",
       "      <td>0.000000</td>\n",
       "      <td>0.000000</td>\n",
       "      <td>0.000000</td>\n",
       "      <td>0.000000</td>\n",
       "      <td>-35.000000</td>\n",
       "    </tr>\n",
       "    <tr>\n",
       "      <th>25%</th>\n",
       "      <td>0.000000</td>\n",
       "      <td>0.000000</td>\n",
       "      <td>0.000000</td>\n",
       "      <td>0.000000</td>\n",
       "      <td>0.000000</td>\n",
       "      <td>0.000000</td>\n",
       "      <td>0.000000</td>\n",
       "      <td>0.000000</td>\n",
       "      <td>0.000000</td>\n",
       "      <td>0.000000</td>\n",
       "      <td>...</td>\n",
       "      <td>0.000000</td>\n",
       "      <td>0.000000</td>\n",
       "      <td>0.000000</td>\n",
       "      <td>0.000000</td>\n",
       "      <td>0.000000</td>\n",
       "      <td>0.000000</td>\n",
       "      <td>0.000000</td>\n",
       "      <td>0.000000</td>\n",
       "      <td>0.000000</td>\n",
       "      <td>-6.000000</td>\n",
       "    </tr>\n",
       "    <tr>\n",
       "      <th>50%</th>\n",
       "      <td>0.000000</td>\n",
       "      <td>0.000000</td>\n",
       "      <td>0.000000</td>\n",
       "      <td>0.000000</td>\n",
       "      <td>0.000000</td>\n",
       "      <td>0.000000</td>\n",
       "      <td>0.000000</td>\n",
       "      <td>0.000000</td>\n",
       "      <td>0.000000</td>\n",
       "      <td>0.000000</td>\n",
       "      <td>...</td>\n",
       "      <td>0.000000</td>\n",
       "      <td>0.000000</td>\n",
       "      <td>0.000000</td>\n",
       "      <td>0.000000</td>\n",
       "      <td>0.000000</td>\n",
       "      <td>0.000000</td>\n",
       "      <td>0.000000</td>\n",
       "      <td>0.000000</td>\n",
       "      <td>0.000000</td>\n",
       "      <td>-1.000000</td>\n",
       "    </tr>\n",
       "    <tr>\n",
       "      <th>75%</th>\n",
       "      <td>0.000000</td>\n",
       "      <td>0.000000</td>\n",
       "      <td>0.000000</td>\n",
       "      <td>0.000000</td>\n",
       "      <td>0.000000</td>\n",
       "      <td>0.000000</td>\n",
       "      <td>0.000000</td>\n",
       "      <td>0.000000</td>\n",
       "      <td>0.000000</td>\n",
       "      <td>0.000000</td>\n",
       "      <td>...</td>\n",
       "      <td>0.000000</td>\n",
       "      <td>0.000000</td>\n",
       "      <td>0.000000</td>\n",
       "      <td>0.000000</td>\n",
       "      <td>0.000000</td>\n",
       "      <td>0.000000</td>\n",
       "      <td>0.000000</td>\n",
       "      <td>0.000000</td>\n",
       "      <td>0.000000</td>\n",
       "      <td>2.000000</td>\n",
       "    </tr>\n",
       "    <tr>\n",
       "      <th>max</th>\n",
       "      <td>1.000000</td>\n",
       "      <td>2.000000</td>\n",
       "      <td>1.000000</td>\n",
       "      <td>1.000000</td>\n",
       "      <td>1.000000</td>\n",
       "      <td>1.000000</td>\n",
       "      <td>5.000000</td>\n",
       "      <td>2.000000</td>\n",
       "      <td>1.000000</td>\n",
       "      <td>1.000000</td>\n",
       "      <td>...</td>\n",
       "      <td>1.000000</td>\n",
       "      <td>1.000000</td>\n",
       "      <td>1.000000</td>\n",
       "      <td>1.000000</td>\n",
       "      <td>1.000000</td>\n",
       "      <td>2.000000</td>\n",
       "      <td>1.000000</td>\n",
       "      <td>1.000000</td>\n",
       "      <td>1.000000</td>\n",
       "      <td>29.000000</td>\n",
       "    </tr>\n",
       "  </tbody>\n",
       "</table>\n",
       "<p>8 rows × 757 columns</p>\n",
       "</div>"
      ],
      "text/plain": [
       "           maunya      mizone         ayo      kangen      berasa        umur  \\\n",
       "count  837.000000  837.000000  837.000000  837.000000  837.000000  837.000000   \n",
       "mean     0.004779    0.111111    0.002389    0.001195    0.010753    0.002389   \n",
       "std      0.069006    0.332934    0.048853    0.034565    0.103198    0.048853   \n",
       "min      0.000000    0.000000    0.000000    0.000000    0.000000    0.000000   \n",
       "25%      0.000000    0.000000    0.000000    0.000000    0.000000    0.000000   \n",
       "50%      0.000000    0.000000    0.000000    0.000000    0.000000    0.000000   \n",
       "75%      0.000000    0.000000    0.000000    0.000000    0.000000    0.000000   \n",
       "max      1.000000    2.000000    1.000000    1.000000    1.000000    1.000000   \n",
       "\n",
       "            minum         gas         isi       rumah  ...      sukses  \\\n",
       "count  837.000000  837.000000  837.000000  837.000000  ...  837.000000   \n",
       "mean     0.292712    0.003584    0.011947    0.032258  ...    0.001195   \n",
       "std      0.642667    0.077253    0.108714    0.176790  ...    0.034565   \n",
       "min      0.000000    0.000000    0.000000    0.000000  ...    0.000000   \n",
       "25%      0.000000    0.000000    0.000000    0.000000  ...    0.000000   \n",
       "50%      0.000000    0.000000    0.000000    0.000000  ...    0.000000   \n",
       "75%      0.000000    0.000000    0.000000    0.000000  ...    0.000000   \n",
       "max      5.000000    2.000000    1.000000    1.000000  ...    1.000000   \n",
       "\n",
       "          pantang    menyerah       belok        kiri      dicoba      derita  \\\n",
       "count  837.000000  837.000000  837.000000  837.000000  837.000000  837.000000   \n",
       "mean     0.001195    0.001195    0.001195    0.001195    0.002389    0.001195   \n",
       "std      0.034565    0.034565    0.034565    0.034565    0.069130    0.034565   \n",
       "min      0.000000    0.000000    0.000000    0.000000    0.000000    0.000000   \n",
       "25%      0.000000    0.000000    0.000000    0.000000    0.000000    0.000000   \n",
       "50%      0.000000    0.000000    0.000000    0.000000    0.000000    0.000000   \n",
       "75%      0.000000    0.000000    0.000000    0.000000    0.000000    0.000000   \n",
       "max      1.000000    1.000000    1.000000    1.000000    2.000000    1.000000   \n",
       "\n",
       "        kesulitan  bermanfaat   sentiment  \n",
       "count  837.000000  837.000000  837.000000  \n",
       "mean     0.001195    0.001195   -1.868578  \n",
       "std      0.034565    0.034565    7.431308  \n",
       "min      0.000000    0.000000  -35.000000  \n",
       "25%      0.000000    0.000000   -6.000000  \n",
       "50%      0.000000    0.000000   -1.000000  \n",
       "75%      0.000000    0.000000    2.000000  \n",
       "max      1.000000    1.000000   29.000000  \n",
       "\n",
       "[8 rows x 757 columns]"
      ]
     },
     "execution_count": 311,
     "metadata": {},
     "output_type": "execute_result"
    }
   ],
   "source": [
    "df_sen.describe()"
   ]
  },
  {
   "cell_type": "markdown",
   "metadata": {},
   "source": [
    "Now let's take a look at the correlation between words that is included in the sentiment"
   ]
  },
  {
   "cell_type": "code",
   "execution_count": 312,
   "metadata": {},
   "outputs": [],
   "source": [
    "def get_redundant_pairs(df):\n",
    "    '''Get diagonal and lower triangular pairs of correlation matrix'''\n",
    "    pairs_to_drop = set()\n",
    "    cols = df.columns\n",
    "    for i in range(0, df.shape[1]):\n",
    "        for j in range(0, i+1):\n",
    "            pairs_to_drop.add((cols[i], cols[j]))\n",
    "    return pairs_to_drop\n",
    "\n",
    "def get_top_abs_correlations(df, n=10):\n",
    "    au_corr = df.corr().abs().unstack()\n",
    "    labels_to_drop = get_redundant_pairs(df)\n",
    "    au_corr = au_corr.drop(labels=labels_to_drop).sort_values(ascending=False)\n",
    "    return au_corr\n",
    "\n",
    "#print(\"Top Absolute Correlations\")\n",
    "#print(get_top_abs_correlations(df_sen, 10))\n",
    "au = get_top_abs_correlations(df_sen, 15)"
   ]
  },
  {
   "cell_type": "code",
   "execution_count": 313,
   "metadata": {},
   "outputs": [
    {
     "name": "stdout",
     "output_type": "stream",
     "text": [
      "Perfect Correlation\n"
     ]
    },
    {
     "data": {
      "text/plain": [
       "donor      darah        1.0\n",
       "menolak    super        1.0\n",
       "kunjung    biji         1.0\n",
       "mati       sisa         1.0\n",
       "banding    pemberian    1.0\n",
       "                       ... \n",
       "pol        ramai        1.0\n",
       "kesabaran  kebaca       1.0\n",
       "berguna    ajak         1.0\n",
       "teriak     serentak     1.0\n",
       "sukses     kiri         1.0\n",
       "Length: 271, dtype: float64"
      ]
     },
     "execution_count": 313,
     "metadata": {},
     "output_type": "execute_result"
    }
   ],
   "source": [
    "print('Perfect Correlation')\n",
    "au[au==1]"
   ]
  },
  {
   "cell_type": "markdown",
   "metadata": {},
   "source": [
    "it turns out that there are 261 word that always occur together in every text, although we dont really see how much of the sentences that is included there but the correlation is pretty high"
   ]
  },
  {
   "cell_type": "code",
   "execution_count": 314,
   "metadata": {},
   "outputs": [],
   "source": [
    "top10 = au[au<float(1)][0:10]\n",
    "label = top10.index\n",
    "label_list =[]\n",
    "for i in label:\n",
    "    for j in i:\n",
    "        if(j not in label_list):\n",
    "            label_list.append(j)\n",
    "            \n",
    "df_sen_corr = df_sen[label_list]\n",
    "corr = df_sen_corr.corr()\n",
    "for i in label_list:\n",
    "    for j in label_list:\n",
    "        if i!=j:\n",
    "            corr[i][j] = round(corr[i][j],3)"
   ]
  },
  {
   "cell_type": "markdown",
   "metadata": {},
   "source": [
    "now let's take a look at other word, that is now always but often come together as the correlation quite high althoughh not equal to 1"
   ]
  },
  {
   "cell_type": "code",
   "execution_count": 315,
   "metadata": {},
   "outputs": [
    {
     "data": {
      "image/png": "[encoded data removed]",
      "text/plain": [
       "<Figure size 1080x1080 with 2 Axes>"
      ]
     },
     "metadata": {},
     "output_type": "display_data"
    }
   ],
   "source": [
    "plt.figure(figsize=(15,15))\n",
    "\n",
    "h = sns.heatmap(corr, annot=True,vmin=-1, vmax=1, center= 0)\n",
    "\n",
    "plt.show()"
   ]
  },
  {
   "cell_type": "code",
   "execution_count": 316,
   "metadata": {},
   "outputs": [],
   "source": [
    "top15 = au[au<float(1)][0:20]"
   ]
  },
  {
   "cell_type": "code",
   "execution_count": 317,
   "metadata": {},
   "outputs": [
    {
     "data": {
      "text/plain": [
       "donor    darah            1.000000e+00\n",
       "menolak  super            1.000000e+00\n",
       "kunjung  biji             1.000000e+00\n",
       "mati     sisa             1.000000e+00\n",
       "banding  pemberian        1.000000e+00\n",
       "                              ...     \n",
       "makan    alhamdulillah    9.670284e-05\n",
       "rumah    suka             2.813626e-16\n",
       "mizone   berasa           1.955260e-17\n",
       "         anak             1.420305e-17\n",
       "         rumah            1.210971e-17\n",
       "Length: 286146, dtype: float64"
      ]
     },
     "execution_count": 317,
     "metadata": {},
     "output_type": "execute_result"
    }
   ],
   "source": [
    "au"
   ]
  },
  {
   "cell_type": "code",
   "execution_count": 318,
   "metadata": {},
   "outputs": [],
   "source": [
    "correlation = pd.DataFrame(au[au<float(1)][0:291466])"
   ]
  },
  {
   "cell_type": "code",
   "execution_count": 319,
   "metadata": {},
   "outputs": [],
   "source": [
    "correlation.to_excel(\"wordpairs_isotonic.xlsx\")"
   ]
  },
  {
   "cell_type": "code",
   "execution_count": 320,
   "metadata": {},
   "outputs": [
    {
     "data": {
      "image/png": "[encoded data removed]",
      "text/plain": [
       "<Figure size 432x288 with 1 Axes>"
      ]
     },
     "metadata": {},
     "output_type": "display_data"
    }
   ],
   "source": [
    "pal =sns.dark_palette(\"purple\", input=\"xkcd\",n_colors=15)\n",
    "g = sns.barplot(y = top15.index , x = top15,color='turquoise')\n",
    "g.grid=False\n",
    "plt.xlabel('correlation')\n",
    "plt.ylabel('pair of words')\n",
    "plt.title(\"Top 20 Not-Perfect Correlation\",fontweight='bold') \n",
    "for i in range(10):\n",
    "    g.text(top15[i],i+0.22, round(top15[i],3),color='black')\n",
    "plt.show()"
   ]
  },
  {
   "cell_type": "markdown",
   "metadata": {},
   "source": [
    "now lets take a look at the most occured words among the set of words that is included in lexicon"
   ]
  },
  {
   "cell_type": "code",
   "execution_count": 321,
   "metadata": {},
   "outputs": [],
   "source": [
    "top15_word = df_sen.drop(['sentiment'],axis=1).sum().sort_values(ascending=False)[0:15]"
   ]
  },
  {
   "cell_type": "code",
   "execution_count": 322,
   "metadata": {},
   "outputs": [
    {
     "data": {
      "image/png": "[encoded data removed]",
      "text/plain": [
       "<Figure size 432x288 with 1 Axes>"
      ]
     },
     "metadata": {},
     "output_type": "display_data"
    }
   ],
   "source": [
    "#pal =sns.dark_palette(\"purple\", input=\"xkcd\",n_colors=15)\n",
    "pal =sns.light_palette(\"navy\", reverse=True,n_colors=15)\n",
    "g = sns.barplot(y = top15_word.index , x = top15_word, color='turquoise')\n",
    "g.grid(False)\n",
    "plt.xlabel('Occurences')\n",
    "plt.ylabel('Words')\n",
    "plt.title(\"Top 15 Most Often Occured Words\",fontweight='bold') \n",
    "for i in range(15):\n",
    "    g.text(top15_word[i],i+0.22, top15_word[i],color='black')\n",
    "plt.show()"
   ]
  },
  {
   "cell_type": "code",
   "execution_count": 323,
   "metadata": {},
   "outputs": [
    {
     "data": {
      "image/png": "[encoded data removed]",
      "text/plain": [
       "<Figure size 576x576 with 1 Axes>"
      ]
     },
     "metadata": {},
     "output_type": "display_data"
    }
   ],
   "source": [
    "wordcloud = WordCloud(width = 800, height = 800, background_color = 'turquoise', max_words = 1500\n",
    "                      , min_font_size = 20).generate(str(word_to_plot_1))\n",
    "#plot the word cloud\n",
    "fig = plt.figure(figsize = (8,8), facecolor = None)\n",
    "plt.imshow(wordcloud)\n",
    "plt.axis('off')\n",
    "plt.show()"
   ]
  },
  {
   "cell_type": "code",
   "execution_count": 324,
   "metadata": {},
   "outputs": [],
   "source": [
    "mask = np.array(Image.open(\"twitter_mask.png\"))"
   ]
  },
  {
   "cell_type": "code",
   "execution_count": 325,
   "metadata": {},
   "outputs": [],
   "source": [
    "colors = [\"turquoise\", \"deepskyblue\", 'darkcyan']"
   ]
  },
  {
   "cell_type": "code",
   "execution_count": 326,
   "metadata": {},
   "outputs": [],
   "source": [
    "cmap = LinearSegmentedColormap.from_list(\"mycmap\", colors)"
   ]
  },
  {
   "cell_type": "code",
   "execution_count": 327,
   "metadata": {},
   "outputs": [],
   "source": [
    "wc = WordCloud(width = 2000, height = 1600, random_state=1, background_color='white', \n",
    "               colormap=cmap , mask=mask, collocations=True, stopwords = STOPWORDS).generate(str(top15_word))"
   ]
  },
  {
   "cell_type": "code",
   "execution_count": 328,
   "metadata": {},
   "outputs": [
    {
     "data": {
      "image/png": "[encoded data removed]",
      "text/plain": [
       "<Figure size 864x864 with 1 Axes>"
      ]
     },
     "metadata": {},
     "output_type": "display_data"
    }
   ],
   "source": [
    "plt.figure(figsize=[12,12])\n",
    "plt.imshow(wc)\n",
    "plt.axis('off')\n",
    "plt.show()"
   ]
  },
  {
   "cell_type": "markdown",
   "metadata": {},
   "source": [
    "# Beyond Words"
   ]
  },
  {
   "cell_type": "markdown",
   "metadata": {},
   "source": [
    "now we want to explore more than the word it self, hence we pass the sentiment into the original dataset and then explore some data there"
   ]
  },
  {
   "cell_type": "code",
   "execution_count": 329,
   "metadata": {},
   "outputs": [],
   "source": [
    "df['sentiment'] = df_sen['sentiment']"
   ]
  },
  {
   "cell_type": "code",
   "execution_count": 330,
   "metadata": {},
   "outputs": [
    {
     "data": {
      "text/html": [
       "<div>\n",
       "<style scoped>\n",
       "    .dataframe tbody tr th:only-of-type {\n",
       "        vertical-align: middle;\n",
       "    }\n",
       "\n",
       "    .dataframe tbody tr th {\n",
       "        vertical-align: top;\n",
       "    }\n",
       "\n",
       "    .dataframe thead th {\n",
       "        text-align: right;\n",
       "    }\n",
       "</style>\n",
       "<table border=\"1\" class=\"dataframe\">\n",
       "  <thead>\n",
       "    <tr style=\"text-align: right;\">\n",
       "      <th></th>\n",
       "      <th>Product</th>\n",
       "      <th>id</th>\n",
       "      <th>created_at</th>\n",
       "      <th>source</th>\n",
       "      <th>original_text</th>\n",
       "      <th>clean_text</th>\n",
       "      <th>lang</th>\n",
       "      <th>favorite_count</th>\n",
       "      <th>retweet_count</th>\n",
       "      <th>original_author</th>\n",
       "      <th>possibly_sensitive</th>\n",
       "      <th>hashtags</th>\n",
       "      <th>user_mentions</th>\n",
       "      <th>place</th>\n",
       "      <th>place_coord_boundaries</th>\n",
       "      <th>date_created</th>\n",
       "      <th>time_created</th>\n",
       "      <th>word_length</th>\n",
       "      <th>sentiment</th>\n",
       "    </tr>\n",
       "  </thead>\n",
       "  <tbody>\n",
       "    <tr>\n",
       "      <th>0</th>\n",
       "      <td>Mizone</td>\n",
       "      <td>1.350000e+18</td>\n",
       "      <td>Wed Jan 20 01:19:59 +0000 2021</td>\n",
       "      <td>&lt;a href=\"http://twitter.com/download/android\" rel=\"nofollow\"&gt;Twitter for Android&lt;/a&gt;</td>\n",
       "      <td>@chridst tidak suuzone karena gue maunya mizone, ayo beri satu</td>\n",
       "      <td>tidak suuzone maunya mizone ayo</td>\n",
       "      <td>in</td>\n",
       "      <td>0</td>\n",
       "      <td>0</td>\n",
       "      <td>heouaisha</td>\n",
       "      <td>False</td>\n",
       "      <td>coveriklan, voiceover, pengisisuara, votalent</td>\n",
       "      <td>chridst</td>\n",
       "      <td>forever disneyfams.</td>\n",
       "      <td>[[112.59649, -8.131789], [112.69126, -8.131789], [112.69126, -8.04802], [112.59649, -8.04802]]</td>\n",
       "      <td>2021-01-20</td>\n",
       "      <td>08:19:59</td>\n",
       "      <td>5</td>\n",
       "      <td>3</td>\n",
       "    </tr>\n",
       "    <tr>\n",
       "      <th>1</th>\n",
       "      <td>Mizone</td>\n",
       "      <td>1.350000e+18</td>\n",
       "      <td>Tue Jan 19 18:19:53 +0000 2021</td>\n",
       "      <td>&lt;a href=\"http://twitter.com/download/iphone\" rel=\"nofollow\"&gt;Twitter for iPhone&lt;/a&gt;</td>\n",
       "      <td>@bdngfess Nu kieu yeuh kangen berat sabelah teh\\r\\nInget nder iklan mizone</td>\n",
       "      <td>nu kieu yeuh kangen sabelah tehinget nder iklan mizone</td>\n",
       "      <td>in</td>\n",
       "      <td>0</td>\n",
       "      <td>0</td>\n",
       "      <td>Kasoy29</td>\n",
       "      <td>False</td>\n",
       "      <td>RakyatDikelabui, RakyatDikelabui</td>\n",
       "      <td>bdngfess</td>\n",
       "      <td>6°48'21.7\"S 107°37'12.8\"E</td>\n",
       "      <td>[[101.4761877, 2.9745362], [101.6291504, 2.9745362], [101.6291504, 3.1279044], [101.4761877, 3.1...</td>\n",
       "      <td>2021-01-20</td>\n",
       "      <td>01:19:53</td>\n",
       "      <td>9</td>\n",
       "      <td>3</td>\n",
       "    </tr>\n",
       "    <tr>\n",
       "      <th>2</th>\n",
       "      <td>Mizone</td>\n",
       "      <td>1.350000e+18</td>\n",
       "      <td>Tue Jan 19 17:13:16 +0000 2021</td>\n",
       "      <td>&lt;a href=\"http://twitter.com/download/android\" rel=\"nofollow\"&gt;Twitter for Android&lt;/a&gt;</td>\n",
       "      <td>@menggelinjanq @andhikahehe @KarlinaFebri19 yaudah, deddy mizone</td>\n",
       "      <td>deddy mizone</td>\n",
       "      <td>in</td>\n",
       "      <td>0</td>\n",
       "      <td>0</td>\n",
       "      <td>JosriSeptianto</td>\n",
       "      <td>False</td>\n",
       "      <td>NaN</td>\n",
       "      <td>menggelinjanq, andhikahehe, KarlinaFebri19</td>\n",
       "      <td>haūs : ngoog</td>\n",
       "      <td>[[116.1127404, -8.623615], [116.164731, -8.623615], [116.164731, -8.563715], [116.1127404, -8.56...</td>\n",
       "      <td>2021-01-20</td>\n",
       "      <td>00:13:16</td>\n",
       "      <td>2</td>\n",
       "      <td>0</td>\n",
       "    </tr>\n",
       "    <tr>\n",
       "      <th>3</th>\n",
       "      <td>Mizone</td>\n",
       "      <td>1.350000e+18</td>\n",
       "      <td>Tue Jan 19 14:42:05 +0000 2021</td>\n",
       "      <td>&lt;a href=\"http://twitter.com/download/android\" rel=\"nofollow\"&gt;Twitter for Android&lt;/a&gt;</td>\n",
       "      <td>@tjaennie @minjoooz @chaerylei @ljungwu pake z berasa mizone</td>\n",
       "      <td>pakai z berasa mizone</td>\n",
       "      <td>in</td>\n",
       "      <td>0</td>\n",
       "      <td>0</td>\n",
       "      <td>heetjins</td>\n",
       "      <td>False</td>\n",
       "      <td>NaN</td>\n",
       "      <td>tjaennie, minjoooz, chaerylei, ljungwu</td>\n",
       "      <td>lost</td>\n",
       "      <td>[[116.0689, -8.651347], [116.1688219, -8.651347], [116.1688219, -8.60494], [116.0689, -8.60494]]</td>\n",
       "      <td>2021-01-19</td>\n",
       "      <td>21:42:05</td>\n",
       "      <td>4</td>\n",
       "      <td>-2</td>\n",
       "    </tr>\n",
       "    <tr>\n",
       "      <th>4</th>\n",
       "      <td>Mizone</td>\n",
       "      <td>1.350000e+18</td>\n",
       "      <td>Tue Jan 19 14:25:49 +0000 2021</td>\n",
       "      <td>&lt;a href=\"http://twitter.com/download/android\" rel=\"nofollow\"&gt;Twitter for Android&lt;/a&gt;</td>\n",
       "      <td>@subtanyarl waktu umur 2 tahunan GUE MINUM MINYAK GAS HAHAHAA, terus seisi rumah pada panik. ken...</td>\n",
       "      <td>umur tahunan minum minyak gas hahahaa seisi rumah panik minum minyak tidak tuh minyak botol nya ...</td>\n",
       "      <td>in</td>\n",
       "      <td>0</td>\n",
       "      <td>0</td>\n",
       "      <td>oxylome</td>\n",
       "      <td>False</td>\n",
       "      <td>NaN</td>\n",
       "      <td>subtanyarl</td>\n",
       "      <td>vottom🍊</td>\n",
       "      <td>[[106.721034, -6.217601], [106.770437, -6.217601], [106.770437, -6.154872], [106.721034, -6.1548...</td>\n",
       "      <td>2021-01-19</td>\n",
       "      <td>21:25:49</td>\n",
       "      <td>28</td>\n",
       "      <td>-11</td>\n",
       "    </tr>\n",
       "  </tbody>\n",
       "</table>\n",
       "</div>"
      ],
      "text/plain": [
       "  Product            id                      created_at  \\\n",
       "0  Mizone  1.350000e+18  Wed Jan 20 01:19:59 +0000 2021   \n",
       "1  Mizone  1.350000e+18  Tue Jan 19 18:19:53 +0000 2021   \n",
       "2  Mizone  1.350000e+18  Tue Jan 19 17:13:16 +0000 2021   \n",
       "3  Mizone  1.350000e+18  Tue Jan 19 14:42:05 +0000 2021   \n",
       "4  Mizone  1.350000e+18  Tue Jan 19 14:25:49 +0000 2021   \n",
       "\n",
       "                                                                                 source  \\\n",
       "0  <a href=\"http://twitter.com/download/android\" rel=\"nofollow\">Twitter for Android</a>   \n",
       "1    <a href=\"http://twitter.com/download/iphone\" rel=\"nofollow\">Twitter for iPhone</a>   \n",
       "2  <a href=\"http://twitter.com/download/android\" rel=\"nofollow\">Twitter for Android</a>   \n",
       "3  <a href=\"http://twitter.com/download/android\" rel=\"nofollow\">Twitter for Android</a>   \n",
       "4  <a href=\"http://twitter.com/download/android\" rel=\"nofollow\">Twitter for Android</a>   \n",
       "\n",
       "                                                                                         original_text  \\\n",
       "0                                       @chridst tidak suuzone karena gue maunya mizone, ayo beri satu   \n",
       "1                           @bdngfess Nu kieu yeuh kangen berat sabelah teh\\r\\nInget nder iklan mizone   \n",
       "2                                     @menggelinjanq @andhikahehe @KarlinaFebri19 yaudah, deddy mizone   \n",
       "3                                         @tjaennie @minjoooz @chaerylei @ljungwu pake z berasa mizone   \n",
       "4  @subtanyarl waktu umur 2 tahunan GUE MINUM MINYAK GAS HAHAHAA, terus seisi rumah pada panik. ken...   \n",
       "\n",
       "                                                                                            clean_text  \\\n",
       "0                                                                     tidak suuzone maunya mizone ayo    \n",
       "1                                              nu kieu yeuh kangen sabelah tehinget nder iklan mizone    \n",
       "2                                                                                        deddy mizone    \n",
       "3                                                                               pakai z berasa mizone    \n",
       "4  umur tahunan minum minyak gas hahahaa seisi rumah panik minum minyak tidak tuh minyak botol nya ...   \n",
       "\n",
       "  lang  favorite_count  retweet_count original_author possibly_sensitive  \\\n",
       "0   in               0              0       heouaisha              False   \n",
       "1   in               0              0         Kasoy29              False   \n",
       "2   in               0              0  JosriSeptianto              False   \n",
       "3   in               0              0        heetjins              False   \n",
       "4   in               0              0         oxylome              False   \n",
       "\n",
       "                                        hashtags  \\\n",
       "0  coveriklan, voiceover, pengisisuara, votalent   \n",
       "1               RakyatDikelabui, RakyatDikelabui   \n",
       "2                                            NaN   \n",
       "3                                            NaN   \n",
       "4                                            NaN   \n",
       "\n",
       "                                user_mentions                      place  \\\n",
       "0                                     chridst        forever disneyfams.   \n",
       "1                                    bdngfess  6°48'21.7\"S 107°37'12.8\"E   \n",
       "2  menggelinjanq, andhikahehe, KarlinaFebri19               haūs : ngoog   \n",
       "3      tjaennie, minjoooz, chaerylei, ljungwu                       lost   \n",
       "4                                  subtanyarl                    vottom🍊   \n",
       "\n",
       "                                                                                place_coord_boundaries  \\\n",
       "0       [[112.59649, -8.131789], [112.69126, -8.131789], [112.69126, -8.04802], [112.59649, -8.04802]]   \n",
       "1  [[101.4761877, 2.9745362], [101.6291504, 2.9745362], [101.6291504, 3.1279044], [101.4761877, 3.1...   \n",
       "2  [[116.1127404, -8.623615], [116.164731, -8.623615], [116.164731, -8.563715], [116.1127404, -8.56...   \n",
       "3     [[116.0689, -8.651347], [116.1688219, -8.651347], [116.1688219, -8.60494], [116.0689, -8.60494]]   \n",
       "4  [[106.721034, -6.217601], [106.770437, -6.217601], [106.770437, -6.154872], [106.721034, -6.1548...   \n",
       "\n",
       "  date_created time_created  word_length  sentiment  \n",
       "0   2021-01-20     08:19:59            5          3  \n",
       "1   2021-01-20     01:19:53            9          3  \n",
       "2   2021-01-20     00:13:16            2          0  \n",
       "3   2021-01-19     21:42:05            4         -2  \n",
       "4   2021-01-19     21:25:49           28        -11  "
      ]
     },
     "execution_count": 330,
     "metadata": {},
     "output_type": "execute_result"
    }
   ],
   "source": [
    "df.head(5)"
   ]
  },
  {
   "cell_type": "code",
   "execution_count": 331,
   "metadata": {},
   "outputs": [
    {
     "data": {
      "text/plain": [
       "Product                     0\n",
       "id                          0\n",
       "created_at                  0\n",
       "source                      0\n",
       "original_text               0\n",
       "clean_text                  0\n",
       "lang                        0\n",
       "favorite_count              0\n",
       "retweet_count               0\n",
       "original_author             0\n",
       "possibly_sensitive        721\n",
       "hashtags                  784\n",
       "user_mentions             243\n",
       "place                     300\n",
       "place_coord_boundaries    824\n",
       "date_created                0\n",
       "time_created                0\n",
       "word_length                 0\n",
       "sentiment                   0\n",
       "dtype: int64"
      ]
     },
     "execution_count": 331,
     "metadata": {},
     "output_type": "execute_result"
    }
   ],
   "source": [
    "df.isnull().sum()"
   ]
  },
  {
   "cell_type": "markdown",
   "metadata": {},
   "source": [
    "lets take a look at the other factor that is correlated to the sentiment itself"
   ]
  },
  {
   "cell_type": "code",
   "execution_count": 332,
   "metadata": {},
   "outputs": [
    {
     "data": {
      "image/png": "[encoded data removed]",
      "text/plain": [
       "<Figure size 432x288 with 2 Axes>"
      ]
     },
     "metadata": {},
     "output_type": "display_data"
    }
   ],
   "source": [
    "plt.figure()\n",
    "plt.title('correlation between numerical data',fontweight='bold')\n",
    "df_corr = df.corr()\n",
    "matrix = np.triu(df.corr())\n",
    "cmap =  sns.cubehelix_palette(light=0.5, as_cmap=True)\n",
    "h = sns.heatmap(df_corr, annot=True,vmin=-1, vmax=1, center= 0,mask=matrix,cmap = cmap)\n",
    "\n",
    "plt.show()"
   ]
  },
  {
   "cell_type": "markdown",
   "metadata": {},
   "source": [
    "from the numerical feature, it seems the correlation is very low, now lets take a look at the others"
   ]
  },
  {
   "cell_type": "code",
   "execution_count": 333,
   "metadata": {},
   "outputs": [
    {
     "data": {
      "image/png": "[encoded data removed]",
      "text/plain": [
       "<Figure size 720x576 with 1 Axes>"
      ]
     },
     "metadata": {},
     "output_type": "display_data"
    }
   ],
   "source": [
    "sns.set(style=\"white\", color_codes=True)\n",
    "plt.figure(figsize=(10,8))\n",
    "plt.title('Sentiment in every language used',fontweight='bold')\n",
    "l = sns.boxplot(x='lang',y='sentiment',data=df,palette= sns.color_palette(\"RdPu\", 10))"
   ]
  },
  {
   "cell_type": "markdown",
   "metadata": {},
   "source": [
    "it looks like people from this time frame that language 'ko' and 'und' always used to give positive sentiment while it is the opposite for 'pt' and 'es'"
   ]
  },
  {
   "cell_type": "code",
   "execution_count": 334,
   "metadata": {},
   "outputs": [
    {
     "data": {
      "image/png": "[encoded data removed]",
      "text/plain": [
       "<Figure size 576x576 with 1 Axes>"
      ]
     },
     "metadata": {},
     "output_type": "display_data"
    }
   ],
   "source": [
    "cek_df = df.dropna(subset=['possibly_sensitive'])\n",
    "cek_df = cek_df.reset_index(drop=True)\n",
    "plt.figure(figsize=(8,8))\n",
    "g = sns.boxplot(x='possibly_sensitive',y='sentiment',data=cek_df)\n",
    "plt.show()"
   ]
  },
  {
   "cell_type": "markdown",
   "metadata": {},
   "source": [
    "the sensitive content does not indicating the statement as they are almost equally distributed among them"
   ]
  },
  {
   "cell_type": "code",
   "execution_count": 335,
   "metadata": {},
   "outputs": [
    {
     "data": {
      "text/html": [
       "<div>\n",
       "<style scoped>\n",
       "    .dataframe tbody tr th:only-of-type {\n",
       "        vertical-align: middle;\n",
       "    }\n",
       "\n",
       "    .dataframe tbody tr th {\n",
       "        vertical-align: top;\n",
       "    }\n",
       "\n",
       "    .dataframe thead th {\n",
       "        text-align: right;\n",
       "    }\n",
       "</style>\n",
       "<table border=\"1\" class=\"dataframe\">\n",
       "  <thead>\n",
       "    <tr style=\"text-align: right;\">\n",
       "      <th></th>\n",
       "      <th>Product</th>\n",
       "      <th>id</th>\n",
       "      <th>created_at</th>\n",
       "      <th>source</th>\n",
       "      <th>original_text</th>\n",
       "      <th>clean_text</th>\n",
       "      <th>lang</th>\n",
       "      <th>favorite_count</th>\n",
       "      <th>retweet_count</th>\n",
       "      <th>original_author</th>\n",
       "      <th>possibly_sensitive</th>\n",
       "      <th>hashtags</th>\n",
       "      <th>user_mentions</th>\n",
       "      <th>place</th>\n",
       "      <th>place_coord_boundaries</th>\n",
       "      <th>date_created</th>\n",
       "      <th>time_created</th>\n",
       "      <th>word_length</th>\n",
       "      <th>sentiment</th>\n",
       "    </tr>\n",
       "  </thead>\n",
       "  <tbody>\n",
       "    <tr>\n",
       "      <th>0</th>\n",
       "      <td>Mizone</td>\n",
       "      <td>1.350000e+18</td>\n",
       "      <td>Wed Jan 20 01:19:59 +0000 2021</td>\n",
       "      <td>&lt;a href=\"http://twitter.com/download/android\" rel=\"nofollow\"&gt;Twitter for Android&lt;/a&gt;</td>\n",
       "      <td>@chridst tidak suuzone karena gue maunya mizone, ayo beri satu</td>\n",
       "      <td>tidak suuzone maunya mizone ayo</td>\n",
       "      <td>in</td>\n",
       "      <td>0</td>\n",
       "      <td>0</td>\n",
       "      <td>heouaisha</td>\n",
       "      <td>False</td>\n",
       "      <td>coveriklan, voiceover, pengisisuara, votalent</td>\n",
       "      <td>chridst</td>\n",
       "      <td>forever disneyfams.</td>\n",
       "      <td>[[112.59649, -8.131789], [112.69126, -8.131789], [112.69126, -8.04802], [112.59649, -8.04802]]</td>\n",
       "      <td>2021-01-20</td>\n",
       "      <td>08:19:59</td>\n",
       "      <td>5</td>\n",
       "      <td>3</td>\n",
       "    </tr>\n",
       "    <tr>\n",
       "      <th>1</th>\n",
       "      <td>Mizone</td>\n",
       "      <td>1.350000e+18</td>\n",
       "      <td>Tue Jan 19 18:19:53 +0000 2021</td>\n",
       "      <td>&lt;a href=\"http://twitter.com/download/iphone\" rel=\"nofollow\"&gt;Twitter for iPhone&lt;/a&gt;</td>\n",
       "      <td>@bdngfess Nu kieu yeuh kangen berat sabelah teh\\r\\nInget nder iklan mizone</td>\n",
       "      <td>nu kieu yeuh kangen sabelah tehinget nder iklan mizone</td>\n",
       "      <td>in</td>\n",
       "      <td>0</td>\n",
       "      <td>0</td>\n",
       "      <td>Kasoy29</td>\n",
       "      <td>False</td>\n",
       "      <td>RakyatDikelabui, RakyatDikelabui</td>\n",
       "      <td>bdngfess</td>\n",
       "      <td>6°48'21.7\"S 107°37'12.8\"E</td>\n",
       "      <td>[[101.4761877, 2.9745362], [101.6291504, 2.9745362], [101.6291504, 3.1279044], [101.4761877, 3.1...</td>\n",
       "      <td>2021-01-20</td>\n",
       "      <td>01:19:53</td>\n",
       "      <td>9</td>\n",
       "      <td>3</td>\n",
       "    </tr>\n",
       "    <tr>\n",
       "      <th>2</th>\n",
       "      <td>Mizone</td>\n",
       "      <td>1.350000e+18</td>\n",
       "      <td>Tue Jan 19 17:13:16 +0000 2021</td>\n",
       "      <td>&lt;a href=\"http://twitter.com/download/android\" rel=\"nofollow\"&gt;Twitter for Android&lt;/a&gt;</td>\n",
       "      <td>@menggelinjanq @andhikahehe @KarlinaFebri19 yaudah, deddy mizone</td>\n",
       "      <td>deddy mizone</td>\n",
       "      <td>in</td>\n",
       "      <td>0</td>\n",
       "      <td>0</td>\n",
       "      <td>JosriSeptianto</td>\n",
       "      <td>False</td>\n",
       "      <td>NaN</td>\n",
       "      <td>menggelinjanq, andhikahehe, KarlinaFebri19</td>\n",
       "      <td>haūs : ngoog</td>\n",
       "      <td>[[116.1127404, -8.623615], [116.164731, -8.623615], [116.164731, -8.563715], [116.1127404, -8.56...</td>\n",
       "      <td>2021-01-20</td>\n",
       "      <td>00:13:16</td>\n",
       "      <td>2</td>\n",
       "      <td>0</td>\n",
       "    </tr>\n",
       "    <tr>\n",
       "      <th>3</th>\n",
       "      <td>Mizone</td>\n",
       "      <td>1.350000e+18</td>\n",
       "      <td>Tue Jan 19 14:42:05 +0000 2021</td>\n",
       "      <td>&lt;a href=\"http://twitter.com/download/android\" rel=\"nofollow\"&gt;Twitter for Android&lt;/a&gt;</td>\n",
       "      <td>@tjaennie @minjoooz @chaerylei @ljungwu pake z berasa mizone</td>\n",
       "      <td>pakai z berasa mizone</td>\n",
       "      <td>in</td>\n",
       "      <td>0</td>\n",
       "      <td>0</td>\n",
       "      <td>heetjins</td>\n",
       "      <td>False</td>\n",
       "      <td>NaN</td>\n",
       "      <td>tjaennie, minjoooz, chaerylei, ljungwu</td>\n",
       "      <td>lost</td>\n",
       "      <td>[[116.0689, -8.651347], [116.1688219, -8.651347], [116.1688219, -8.60494], [116.0689, -8.60494]]</td>\n",
       "      <td>2021-01-19</td>\n",
       "      <td>21:42:05</td>\n",
       "      <td>4</td>\n",
       "      <td>-2</td>\n",
       "    </tr>\n",
       "    <tr>\n",
       "      <th>4</th>\n",
       "      <td>Mizone</td>\n",
       "      <td>1.350000e+18</td>\n",
       "      <td>Tue Jan 19 14:25:49 +0000 2021</td>\n",
       "      <td>&lt;a href=\"http://twitter.com/download/android\" rel=\"nofollow\"&gt;Twitter for Android&lt;/a&gt;</td>\n",
       "      <td>@subtanyarl waktu umur 2 tahunan GUE MINUM MINYAK GAS HAHAHAA, terus seisi rumah pada panik. ken...</td>\n",
       "      <td>umur tahunan minum minyak gas hahahaa seisi rumah panik minum minyak tidak tuh minyak botol nya ...</td>\n",
       "      <td>in</td>\n",
       "      <td>0</td>\n",
       "      <td>0</td>\n",
       "      <td>oxylome</td>\n",
       "      <td>False</td>\n",
       "      <td>NaN</td>\n",
       "      <td>subtanyarl</td>\n",
       "      <td>vottom🍊</td>\n",
       "      <td>[[106.721034, -6.217601], [106.770437, -6.217601], [106.770437, -6.154872], [106.721034, -6.1548...</td>\n",
       "      <td>2021-01-19</td>\n",
       "      <td>21:25:49</td>\n",
       "      <td>28</td>\n",
       "      <td>-11</td>\n",
       "    </tr>\n",
       "    <tr>\n",
       "      <th>...</th>\n",
       "      <td>...</td>\n",
       "      <td>...</td>\n",
       "      <td>...</td>\n",
       "      <td>...</td>\n",
       "      <td>...</td>\n",
       "      <td>...</td>\n",
       "      <td>...</td>\n",
       "      <td>...</td>\n",
       "      <td>...</td>\n",
       "      <td>...</td>\n",
       "      <td>...</td>\n",
       "      <td>...</td>\n",
       "      <td>...</td>\n",
       "      <td>...</td>\n",
       "      <td>...</td>\n",
       "      <td>...</td>\n",
       "      <td>...</td>\n",
       "      <td>...</td>\n",
       "      <td>...</td>\n",
       "    </tr>\n",
       "    <tr>\n",
       "      <th>832</th>\n",
       "      <td>Hydro Coco</td>\n",
       "      <td>1.350000e+18</td>\n",
       "      <td>Sat Jan 09 08:47:04 +0000 2021</td>\n",
       "      <td>&lt;a href=\"https://mobile.twitter.com\" rel=\"nofollow\"&gt;Twitter Web App&lt;/a&gt;</td>\n",
       "      <td>Ada diantara penderita covid yang kesulitan makan karena selera seperti hilang dan purutpun mual...</td>\n",
       "      <td>penderita covid kesulitan makan selera hilang perut mual asupan masuk pengalaman cobalah minum h...</td>\n",
       "      <td>in</td>\n",
       "      <td>3</td>\n",
       "      <td>0</td>\n",
       "      <td>teguhfriend</td>\n",
       "      <td>NaN</td>\n",
       "      <td>NaN</td>\n",
       "      <td>fakeblis</td>\n",
       "      <td>Tangerang, Banten</td>\n",
       "      <td>NaN</td>\n",
       "      <td>2021-01-09</td>\n",
       "      <td>15:47:04</td>\n",
       "      <td>25</td>\n",
       "      <td>8</td>\n",
       "    </tr>\n",
       "    <tr>\n",
       "      <th>833</th>\n",
       "      <td>Hydro Coco</td>\n",
       "      <td>1.350000e+18</td>\n",
       "      <td>Sun Jan 10 01:43:00 +0000 2021</td>\n",
       "      <td>&lt;a href=\"http://twitter.com/download/iphone\" rel=\"nofollow\"&gt;Twitter for iPhone&lt;/a&gt;</td>\n",
       "      <td>@pipigembulkei Knp ada royco heyyy 😅 jangan bilang mau di seduh sama Hydro coco 🤣🤣</td>\n",
       "      <td>yyy bilang seduh hydro coco</td>\n",
       "      <td>in</td>\n",
       "      <td>2</td>\n",
       "      <td>0</td>\n",
       "      <td>Kei_Gummy</td>\n",
       "      <td>NaN</td>\n",
       "      <td>HealthyHighVitaminCDrink</td>\n",
       "      <td>KimALCc</td>\n",
       "      <td>Kediri, Jawa Timur</td>\n",
       "      <td>NaN</td>\n",
       "      <td>2021-01-10</td>\n",
       "      <td>08:43:00</td>\n",
       "      <td>5</td>\n",
       "      <td>0</td>\n",
       "    </tr>\n",
       "    <tr>\n",
       "      <th>834</th>\n",
       "      <td>Hydro Coco</td>\n",
       "      <td>1.350000e+18</td>\n",
       "      <td>Mon Jan 11 12:47:11 +0000 2021</td>\n",
       "      <td>&lt;a href=\"http://twitter.com/download/android\" rel=\"nofollow\"&gt;Twitter for Android&lt;/a&gt;</td>\n",
       "      <td>@mauchatimedong Ngefek sii. Kalau mau tambah seger ntar pas bangun tidur, susu beruangnya bisa t...</td>\n",
       "      <td>ngefek sii seger pas bangun tidur susu beruangnya tu campur hydro coco nata adik coco</td>\n",
       "      <td>in</td>\n",
       "      <td>0</td>\n",
       "      <td>0</td>\n",
       "      <td>helehdam</td>\n",
       "      <td>False</td>\n",
       "      <td>HealthyHighVitaminCDrink</td>\n",
       "      <td>kegblgnunfaedh</td>\n",
       "      <td>Lebak, Banten</td>\n",
       "      <td>NaN</td>\n",
       "      <td>2021-01-11</td>\n",
       "      <td>19:47:11</td>\n",
       "      <td>15</td>\n",
       "      <td>7</td>\n",
       "    </tr>\n",
       "    <tr>\n",
       "      <th>835</th>\n",
       "      <td>Hydro Coco</td>\n",
       "      <td>1.350000e+18</td>\n",
       "      <td>Mon Jan 11 03:06:11 +0000 2021</td>\n",
       "      <td>&lt;a href=\"http://twitter.com/download/android\" rel=\"nofollow\"&gt;Twitter for Android&lt;/a&gt;</td>\n",
       "      <td>@kegblgnunfaedh Sabtu jam 5 pagi kala itu beli hydro coco..\\r\\nMasa lalu 😂🤣</td>\n",
       "      <td>jam pagi beli hydro coco</td>\n",
       "      <td>in</td>\n",
       "      <td>0</td>\n",
       "      <td>0</td>\n",
       "      <td>lipatanpipi</td>\n",
       "      <td>False</td>\n",
       "      <td>HealthyHighVitaminCDrink</td>\n",
       "      <td>pipigembulkei</td>\n",
       "      <td>dki jakarta</td>\n",
       "      <td>NaN</td>\n",
       "      <td>2021-01-11</td>\n",
       "      <td>10:06:11</td>\n",
       "      <td>5</td>\n",
       "      <td>3</td>\n",
       "    </tr>\n",
       "    <tr>\n",
       "      <th>836</th>\n",
       "      <td>Hydro Coco</td>\n",
       "      <td>1.350000e+18</td>\n",
       "      <td>Mon Jan 11 02:03:39 +0000 2021</td>\n",
       "      <td>&lt;a href=\"http://twitter.com/download/android\" rel=\"nofollow\"&gt;Twitter for Android&lt;/a&gt;</td>\n",
       "      <td>hydro coco knp enak bgtttttt sik</td>\n",
       "      <td>hydro coco enak banget</td>\n",
       "      <td>in</td>\n",
       "      <td>0</td>\n",
       "      <td>0</td>\n",
       "      <td>rbhnaddctt</td>\n",
       "      <td>False</td>\n",
       "      <td>HealthyHighVitaminCDrink</td>\n",
       "      <td>filatadarega</td>\n",
       "      <td>Taipei City, Taiwan</td>\n",
       "      <td>NaN</td>\n",
       "      <td>2021-01-11</td>\n",
       "      <td>09:03:39</td>\n",
       "      <td>4</td>\n",
       "      <td>6</td>\n",
       "    </tr>\n",
       "  </tbody>\n",
       "</table>\n",
       "<p>837 rows × 19 columns</p>\n",
       "</div>"
      ],
      "text/plain": [
       "        Product            id                      created_at  \\\n",
       "0        Mizone  1.350000e+18  Wed Jan 20 01:19:59 +0000 2021   \n",
       "1        Mizone  1.350000e+18  Tue Jan 19 18:19:53 +0000 2021   \n",
       "2        Mizone  1.350000e+18  Tue Jan 19 17:13:16 +0000 2021   \n",
       "3        Mizone  1.350000e+18  Tue Jan 19 14:42:05 +0000 2021   \n",
       "4        Mizone  1.350000e+18  Tue Jan 19 14:25:49 +0000 2021   \n",
       "..          ...           ...                             ...   \n",
       "832  Hydro Coco  1.350000e+18  Sat Jan 09 08:47:04 +0000 2021   \n",
       "833  Hydro Coco  1.350000e+18  Sun Jan 10 01:43:00 +0000 2021   \n",
       "834  Hydro Coco  1.350000e+18  Mon Jan 11 12:47:11 +0000 2021   \n",
       "835  Hydro Coco  1.350000e+18  Mon Jan 11 03:06:11 +0000 2021   \n",
       "836  Hydro Coco  1.350000e+18  Mon Jan 11 02:03:39 +0000 2021   \n",
       "\n",
       "                                                                                   source  \\\n",
       "0    <a href=\"http://twitter.com/download/android\" rel=\"nofollow\">Twitter for Android</a>   \n",
       "1      <a href=\"http://twitter.com/download/iphone\" rel=\"nofollow\">Twitter for iPhone</a>   \n",
       "2    <a href=\"http://twitter.com/download/android\" rel=\"nofollow\">Twitter for Android</a>   \n",
       "3    <a href=\"http://twitter.com/download/android\" rel=\"nofollow\">Twitter for Android</a>   \n",
       "4    <a href=\"http://twitter.com/download/android\" rel=\"nofollow\">Twitter for Android</a>   \n",
       "..                                                                                    ...   \n",
       "832               <a href=\"https://mobile.twitter.com\" rel=\"nofollow\">Twitter Web App</a>   \n",
       "833    <a href=\"http://twitter.com/download/iphone\" rel=\"nofollow\">Twitter for iPhone</a>   \n",
       "834  <a href=\"http://twitter.com/download/android\" rel=\"nofollow\">Twitter for Android</a>   \n",
       "835  <a href=\"http://twitter.com/download/android\" rel=\"nofollow\">Twitter for Android</a>   \n",
       "836  <a href=\"http://twitter.com/download/android\" rel=\"nofollow\">Twitter for Android</a>   \n",
       "\n",
       "                                                                                           original_text  \\\n",
       "0                                         @chridst tidak suuzone karena gue maunya mizone, ayo beri satu   \n",
       "1                             @bdngfess Nu kieu yeuh kangen berat sabelah teh\\r\\nInget nder iklan mizone   \n",
       "2                                       @menggelinjanq @andhikahehe @KarlinaFebri19 yaudah, deddy mizone   \n",
       "3                                           @tjaennie @minjoooz @chaerylei @ljungwu pake z berasa mizone   \n",
       "4    @subtanyarl waktu umur 2 tahunan GUE MINUM MINYAK GAS HAHAHAA, terus seisi rumah pada panik. ken...   \n",
       "..                                                                                                   ...   \n",
       "832  Ada diantara penderita covid yang kesulitan makan karena selera seperti hilang dan purutpun mual...   \n",
       "833                   @pipigembulkei Knp ada royco heyyy 😅 jangan bilang mau di seduh sama Hydro coco 🤣🤣   \n",
       "834  @mauchatimedong Ngefek sii. Kalau mau tambah seger ntar pas bangun tidur, susu beruangnya bisa t...   \n",
       "835                          @kegblgnunfaedh Sabtu jam 5 pagi kala itu beli hydro coco..\\r\\nMasa lalu 😂🤣   \n",
       "836                                                                     hydro coco knp enak bgtttttt sik   \n",
       "\n",
       "                                                                                              clean_text  \\\n",
       "0                                                                       tidak suuzone maunya mizone ayo    \n",
       "1                                                nu kieu yeuh kangen sabelah tehinget nder iklan mizone    \n",
       "2                                                                                          deddy mizone    \n",
       "3                                                                                 pakai z berasa mizone    \n",
       "4    umur tahunan minum minyak gas hahahaa seisi rumah panik minum minyak tidak tuh minyak botol nya ...   \n",
       "..                                                                                                   ...   \n",
       "832  penderita covid kesulitan makan selera hilang perut mual asupan masuk pengalaman cobalah minum h...   \n",
       "833                                                                         yyy bilang seduh hydro coco    \n",
       "834               ngefek sii seger pas bangun tidur susu beruangnya tu campur hydro coco nata adik coco    \n",
       "835                                                                            jam pagi beli hydro coco    \n",
       "836                                                                              hydro coco enak banget    \n",
       "\n",
       "    lang  favorite_count  retweet_count original_author possibly_sensitive  \\\n",
       "0     in               0              0       heouaisha              False   \n",
       "1     in               0              0         Kasoy29              False   \n",
       "2     in               0              0  JosriSeptianto              False   \n",
       "3     in               0              0        heetjins              False   \n",
       "4     in               0              0         oxylome              False   \n",
       "..   ...             ...            ...             ...                ...   \n",
       "832   in               3              0     teguhfriend                NaN   \n",
       "833   in               2              0       Kei_Gummy                NaN   \n",
       "834   in               0              0        helehdam              False   \n",
       "835   in               0              0     lipatanpipi              False   \n",
       "836   in               0              0      rbhnaddctt              False   \n",
       "\n",
       "                                          hashtags  \\\n",
       "0    coveriklan, voiceover, pengisisuara, votalent   \n",
       "1                 RakyatDikelabui, RakyatDikelabui   \n",
       "2                                              NaN   \n",
       "3                                              NaN   \n",
       "4                                              NaN   \n",
       "..                                             ...   \n",
       "832                                            NaN   \n",
       "833                       HealthyHighVitaminCDrink   \n",
       "834                       HealthyHighVitaminCDrink   \n",
       "835                       HealthyHighVitaminCDrink   \n",
       "836                       HealthyHighVitaminCDrink   \n",
       "\n",
       "                                  user_mentions                      place  \\\n",
       "0                                       chridst        forever disneyfams.   \n",
       "1                                      bdngfess  6°48'21.7\"S 107°37'12.8\"E   \n",
       "2    menggelinjanq, andhikahehe, KarlinaFebri19               haūs : ngoog   \n",
       "3        tjaennie, minjoooz, chaerylei, ljungwu                       lost   \n",
       "4                                    subtanyarl                    vottom🍊   \n",
       "..                                          ...                        ...   \n",
       "832                                    fakeblis          Tangerang, Banten   \n",
       "833                                     KimALCc         Kediri, Jawa Timur   \n",
       "834                              kegblgnunfaedh              Lebak, Banten   \n",
       "835                               pipigembulkei                dki jakarta   \n",
       "836                                filatadarega        Taipei City, Taiwan   \n",
       "\n",
       "                                                                                  place_coord_boundaries  \\\n",
       "0         [[112.59649, -8.131789], [112.69126, -8.131789], [112.69126, -8.04802], [112.59649, -8.04802]]   \n",
       "1    [[101.4761877, 2.9745362], [101.6291504, 2.9745362], [101.6291504, 3.1279044], [101.4761877, 3.1...   \n",
       "2    [[116.1127404, -8.623615], [116.164731, -8.623615], [116.164731, -8.563715], [116.1127404, -8.56...   \n",
       "3       [[116.0689, -8.651347], [116.1688219, -8.651347], [116.1688219, -8.60494], [116.0689, -8.60494]]   \n",
       "4    [[106.721034, -6.217601], [106.770437, -6.217601], [106.770437, -6.154872], [106.721034, -6.1548...   \n",
       "..                                                                                                   ...   \n",
       "832                                                                                                  NaN   \n",
       "833                                                                                                  NaN   \n",
       "834                                                                                                  NaN   \n",
       "835                                                                                                  NaN   \n",
       "836                                                                                                  NaN   \n",
       "\n",
       "    date_created time_created  word_length  sentiment  \n",
       "0     2021-01-20     08:19:59            5          3  \n",
       "1     2021-01-20     01:19:53            9          3  \n",
       "2     2021-01-20     00:13:16            2          0  \n",
       "3     2021-01-19     21:42:05            4         -2  \n",
       "4     2021-01-19     21:25:49           28        -11  \n",
       "..           ...          ...          ...        ...  \n",
       "832   2021-01-09     15:47:04           25          8  \n",
       "833   2021-01-10     08:43:00            5          0  \n",
       "834   2021-01-11     19:47:11           15          7  \n",
       "835   2021-01-11     10:06:11            5          3  \n",
       "836   2021-01-11     09:03:39            4          6  \n",
       "\n",
       "[837 rows x 19 columns]"
      ]
     },
     "execution_count": 335,
     "metadata": {},
     "output_type": "execute_result"
    }
   ],
   "source": [
    "df"
   ]
  },
  {
   "cell_type": "code",
   "execution_count": 336,
   "metadata": {},
   "outputs": [],
   "source": [
    "df_place = df.groupby(['place']).mean().sort_values(by='sentiment',ascending=False)\n",
    "df_place = df_place.reset_index()"
   ]
  },
  {
   "cell_type": "code",
   "execution_count": 337,
   "metadata": {},
   "outputs": [],
   "source": [
    "df_place_dict = df.groupby(['place']).count().sort_values(by='id',ascending=False)['id'].to_dict()"
   ]
  },
  {
   "cell_type": "code",
   "execution_count": 338,
   "metadata": {},
   "outputs": [],
   "source": [
    "df_place['number_of_tweets'] =  df_place.apply(lambda x:df_place_dict[x['place']],axis=1)"
   ]
  },
  {
   "cell_type": "code",
   "execution_count": 339,
   "metadata": {},
   "outputs": [],
   "source": [
    "top10_place_pos = df_place.sort_values(by='sentiment',ascending=False)[0:10].reset_index(drop=True)\n",
    "top10_place_neg = df_place.sort_values(by='sentiment',ascending=True)[0:10].reset_index(drop=True)\n",
    "top10_place     = df_place.sort_values(by='number_of_tweets',ascending=False)[0:10].reset_index(drop=True)"
   ]
  },
  {
   "cell_type": "markdown",
   "metadata": {},
   "source": [
    "now let's take a look at some places where the sentiment that is made from them is tend to be sensitive and also for places that made otherwise"
   ]
  },
  {
   "cell_type": "code",
   "execution_count": 340,
   "metadata": {},
   "outputs": [
    {
     "data": {
      "image/png": "[encoded data removed]",
      "text/plain": [
       "<Figure size 720x720 with 2 Axes>"
      ]
     },
     "metadata": {},
     "output_type": "display_data"
    },
    {
     "data": {
      "text/plain": [
       "<Figure size 432x288 with 0 Axes>"
      ]
     },
     "metadata": {},
     "output_type": "display_data"
    }
   ],
   "source": [
    "fig, (ax1, ax2) = plt.subplots(2, 1,figsize=(10,10))\n",
    "fig.suptitle('Most Positive and Most Negative Sentiment Account',fontweight='bold')\n",
    "h = sns.barplot(y='place',x='sentiment',data=top10_place_pos,ax=ax1,palette=sns.color_palette(\"Blues_d\",n_colors=10))\n",
    "n = sns.barplot(y='place',x='sentiment',data=top10_place_neg,ax=ax2,palette=sns.color_palette('RdPu_d',n_colors=10))\n",
    "ax1.set_title('Top 10 Positive')\n",
    "ax2.set_title('Top 10 Negative')\n",
    "plt.show()\n",
    "plt.savefig(\"most account.png\", dpi=200)"
   ]
  },
  {
   "cell_type": "markdown",
   "metadata": {},
   "source": [
    "last but not least, let's take a look at some places where tweets is most often come from\n"
   ]
  },
  {
   "cell_type": "code",
   "execution_count": 341,
   "metadata": {},
   "outputs": [
    {
     "name": "stderr",
     "output_type": "stream",
     "text": [
      "C:\\Users\\alldata\\anaconda3\\lib\\site-packages\\matplotlib\\backends\\backend_agg.py:211: RuntimeWarning: Glyph 55357 missing from current font.\n",
      "  font.set_text(s, 0.0, flags=flags)\n",
      "C:\\Users\\alldata\\anaconda3\\lib\\site-packages\\matplotlib\\backends\\backend_agg.py:211: RuntimeWarning: Glyph 56425 missing from current font.\n",
      "  font.set_text(s, 0.0, flags=flags)\n",
      "C:\\Users\\alldata\\anaconda3\\lib\\site-packages\\matplotlib\\backends\\backend_agg.py:211: RuntimeWarning: Glyph 55356 missing from current font.\n",
      "  font.set_text(s, 0.0, flags=flags)\n",
      "C:\\Users\\alldata\\anaconda3\\lib\\site-packages\\matplotlib\\backends\\backend_agg.py:211: RuntimeWarning: Glyph 57339 missing from current font.\n",
      "  font.set_text(s, 0.0, flags=flags)\n",
      "C:\\Users\\alldata\\anaconda3\\lib\\site-packages\\matplotlib\\backends\\backend_agg.py:211: RuntimeWarning: Glyph 56615 missing from current font.\n",
      "  font.set_text(s, 0.0, flags=flags)\n",
      "C:\\Users\\alldata\\anaconda3\\lib\\site-packages\\matplotlib\\backends\\backend_agg.py:180: RuntimeWarning: Glyph 55357 missing from current font.\n",
      "  font.set_text(s, 0, flags=flags)\n",
      "C:\\Users\\alldata\\anaconda3\\lib\\site-packages\\matplotlib\\backends\\backend_agg.py:180: RuntimeWarning: Glyph 56425 missing from current font.\n",
      "  font.set_text(s, 0, flags=flags)\n",
      "C:\\Users\\alldata\\anaconda3\\lib\\site-packages\\matplotlib\\backends\\backend_agg.py:180: RuntimeWarning: Glyph 55356 missing from current font.\n",
      "  font.set_text(s, 0, flags=flags)\n",
      "C:\\Users\\alldata\\anaconda3\\lib\\site-packages\\matplotlib\\backends\\backend_agg.py:180: RuntimeWarning: Glyph 57339 missing from current font.\n",
      "  font.set_text(s, 0, flags=flags)\n",
      "C:\\Users\\alldata\\anaconda3\\lib\\site-packages\\matplotlib\\backends\\backend_agg.py:180: RuntimeWarning: Glyph 56615 missing from current font.\n",
      "  font.set_text(s, 0, flags=flags)\n"
     ]
    },
    {
     "data": {
      "image/png": "[encoded data removed]",
      "text/plain": [
       "<Figure size 432x288 with 1 Axes>"
      ]
     },
     "metadata": {},
     "output_type": "display_data"
    }
   ],
   "source": [
    "pal =sns.dark_palette(\"green\", input=\"xkcd\",n_colors=10)\n",
    "g = sns.barplot(y = top10_place['place'] , x = top10_place['number_of_tweets'],color='deepskyblue')\n",
    "g.grid=False\n",
    "plt.xlabel('number of tweets')\n",
    "plt.ylabel('place')\n",
    "plt.title(\"Top 10 Number of Tweets place\",fontweight='bold') \n",
    "\n",
    "for i in range(10):\n",
    "    g.text(top10_place['number_of_tweets'][i], i+0.22 ,round(top10_place['sentiment'][i],3),color='black')\n",
    "    \n",
    "plt.show()"
   ]
  }
 ],
 "metadata": {
  "kernelspec": {
   "display_name": "Python 3",
   "language": "python",
   "name": "python3"
  },
  "language_info": {
   "codemirror_mode": {
    "name": "ipython",
    "version": 3
   },
   "file_extension": ".py",
   "mimetype": "text/x-python",
   "name": "python",
   "nbconvert_exporter": "python",
   "pygments_lexer": "ipython3",
   "version": "3.8.8"
  }
 },
 "nbformat": 4,
 "nbformat_minor": 4
}
